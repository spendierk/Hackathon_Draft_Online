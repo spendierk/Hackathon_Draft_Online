{
 "cells": [
  {
   "cell_type": "markdown",
   "id": "45ff52f0",
   "metadata": {},
   "source": [
    "# Running a circuit on IBM's backends"
   ]
  },
  {
   "cell_type": "markdown",
   "id": "cf08a065",
   "metadata": {},
   "source": [
    "In the previous section, we discussed running a circuit on your computer using IBM's AerBackend. In practice, running a circuit on an actual device is a little more complicated.\n",
    "\n",
    "To run circuits on a \"real\" quantum computer, you need access to machines that are available to the public. You will usually require a cloud application programming interface (cloud API) that allows you to submit and execute circuits remotely. For all these machines, TKET proposes extensions that allow you to execute your circuits directly from `pytket` (you will need an internet connection for this).\n",
    "The list of these extensions can be found [here](https://github.com/CQCL/pytket-extensions).\n",
    "\n",
    "The problem is the API in question; for many machines, this is not free. A notable exception is IBM."
   ]
  },
  {
   "cell_type": "markdown",
   "id": "63b06c53",
   "metadata": {},
   "source": [
    "## Load your IBM Quantum account and select provider\n",
    "The Qiskit IBMQ account object is the local reference for accessing your IBM Quantum account, and all of the providers, backends, etc., that are available to you.\n",
    "\n",
    "The IBM Quantum account has functions for handling administrative tasks. The credentials can be saved to your disk, or used in a session and never saved.\n",
    "\n",
    "First, create an IBM Quantum account or log in to your existing account by visiting the IBM Quantum login page.([instructions from IBM](https://quantum-computing.ibm.com/docs/manage/account/)) Then copy (and/or optionally regenerate) your API token from your IBM Quantum account page. You can now take your token, here called MY_API_TOKEN, and run:\n",
    "\n",
    "`from qiskit import IBMQ` \n",
    "\n",
    "`IBMQ.save_account('MY_API_TOKEN')`\n",
    "\n",
    "The command above stores your credentials locally in a configuration file called qiskitrc. By default, this file is located in `HOME/.qiskit` where `HOME` is your home directory. If you are still using Qconfig.py, please delete that file and run the command above.\n",
    "\n",
    "See more info here: https://github.com/Qiskit/qiskit-ibmq-provider#setting-up-the-ibm-quantum-provider\n",
    "\n",
    "We will run a circuit on a `pytket` IBMQEmulatorBackend."
   ]
  },
  {
   "cell_type": "code",
   "execution_count": 7,
   "id": "7a75b1e3",
   "metadata": {},
   "outputs": [],
   "source": [
    "from pytket import Circuit\n",
    "from pytket.extensions.qiskit import IBMQEmulatorBackend\n",
    "from qiskit import IBMQ\n",
    "#IBMQ.save_account('MY_API_TOKEN') # Save TOKEN to disk\n",
    "#IBMQ.load_account() # Load account from disk\n",
    "#IBMQ.providers()    # List all available providers\n"
   ]
  },
  {
   "cell_type": "markdown",
   "id": "37eb1767",
   "metadata": {},
   "source": [
    "Note, you can store your IBM Quantum account information locally ahead of time using `IBMQ.save_account('MY_API_TOKEN')`. MY_API_TOKEN here is the API token you obtain from your IBM Quantum account.\n",
    "\n",
    "To access a given provider one should use the `get_provider()` method of the IBMQ account, or you can filter by hub, group, or project:\n",
    "`IBMQ.get_provider(hub='ibm-q')`\n",
    "\n",
    "`IBMQ.get_provider(group='open')`\n",
    "\n",
    "Calling `IBMQ.load_account()` will return the default public provider instance <AccountProvider for IBMQ(hub='ibm-q', group='open', project='main')>.\n",
    "\n",
    "With the Free IBM Quantum <AccountProvider for IBMQ(hub='ibm-q', group='open', project='main')> you have access to the several quantum computers with your Open Plan.\n",
    "\n",
    "To check our code works correctly, we can use the IBMQEmulatorBackend to run our code exactly as if it were going to run on a real device, but just execute on a simulator (with a basic noise model adapted from the reported device properties).\n",
    "\n",
    "\n",
    "## Create an IBMQEmulatorBackend\n",
    "\n",
    "Let's create an IBMQEmulatorBackend for the ibmq_belem device and check if our circuit is valid to be run."
   ]
  },
  {
   "cell_type": "code",
   "execution_count": 1,
   "id": "e4a731b6",
   "metadata": {},
   "outputs": [
    {
     "ename": "NameError",
     "evalue": "name 'IBMQEmulatorBackend' is not defined",
     "output_type": "error",
     "traceback": [
      "\u001b[1;31m---------------------------------------------------------------------------\u001b[0m",
      "\u001b[1;31mNameError\u001b[0m                                 Traceback (most recent call last)",
      "Input \u001b[1;32mIn [1]\u001b[0m, in \u001b[0;36m<cell line: 4>\u001b[1;34m()\u001b[0m\n\u001b[0;32m      1\u001b[0m \u001b[38;5;28;01mimport\u001b[39;00m \u001b[38;5;21;01mwarnings\u001b[39;00m \u001b[38;5;66;03m#used to disable warnings in this jupyter notebook, can be omitted \u001b[39;00m\n\u001b[0;32m      2\u001b[0m warnings\u001b[38;5;241m.\u001b[39mfilterwarnings(\u001b[38;5;124m'\u001b[39m\u001b[38;5;124mignore\u001b[39m\u001b[38;5;124m'\u001b[39m) \u001b[38;5;66;03m#used to disable warnings in this jupyter notebook, can be omitted\u001b[39;00m\n\u001b[1;32m----> 4\u001b[0m IBM_backend \u001b[38;5;241m=\u001b[39m \u001b[43mIBMQEmulatorBackend\u001b[49m(\u001b[38;5;124m'\u001b[39m\u001b[38;5;124mibmq_belem\u001b[39m\u001b[38;5;124m'\u001b[39m, hub\u001b[38;5;241m=\u001b[39m\u001b[38;5;124m'\u001b[39m\u001b[38;5;124mibm-q\u001b[39m\u001b[38;5;124m'\u001b[39m, group\u001b[38;5;241m=\u001b[39m\u001b[38;5;124m'\u001b[39m\u001b[38;5;124mopen\u001b[39m\u001b[38;5;124m'\u001b[39m, project\u001b[38;5;241m=\u001b[39m\u001b[38;5;124m'\u001b[39m\u001b[38;5;124mmain\u001b[39m\u001b[38;5;124m'\u001b[39m)\n",
      "\u001b[1;31mNameError\u001b[0m: name 'IBMQEmulatorBackend' is not defined"
     ]
    }
   ],
   "source": [
    "import warnings #used to disable warnings in this jupyter notebook, can be omitted \n",
    "warnings.filterwarnings('ignore') #used to disable warnings in this jupyter notebook, can be omitted\n",
    "\n",
    "IBM_backend = IBMQEmulatorBackend('ibmq_belem', hub='ibm-q', group='open', project='main');"
   ]
  },
  {
   "cell_type": "code",
   "execution_count": null,
   "id": "a4a9296c",
   "metadata": {},
   "outputs": [],
   "source": [
    "# defined a sample circuit\n",
    "circ3 = Circuit(2, 2)\n",
    "circ3.Rx(0.3, 0).Ry(0.5, 1).CRz(-0.6, 1, 0)\n",
    "\n",
    "from pytket.circuit.display import render_circuit_jupyter\n",
    "circ3.measure_all()\n",
    "render_circuit_jupyter(circ3)"
   ]
  },
  {
   "cell_type": "markdown",
   "id": "24eb1742",
   "metadata": {},
   "source": [
    "Just like classical computer architectures have assembly instruction sets that specify CPU computations, quantum computers are typically only able to execute specific operations, called the architecture gate set. Let's see which gates are supported by the ibm_belem emulator. For this, we can use `backend_info.gate_set` to obtain this information on the used gate set."
   ]
  },
  {
   "cell_type": "code",
   "execution_count": 76,
   "id": "6da505d0",
   "metadata": {},
   "outputs": [
    {
     "name": "stdout",
     "output_type": "stream",
     "text": [
      "{<OpType.Rz: 33>, <OpType.U3: 34>, <OpType.U2: 35>, <OpType.U1: 36>, <OpType.CX: 39>, <OpType.Reset: 60>, <OpType.X: 20>, <OpType.noop: 57>, <OpType.Measure: 58>, <OpType.SX: 28>}\n"
     ]
    }
   ],
   "source": [
    "print(IBM_backend.backend_info.gate_set)"
   ]
  },
  {
   "cell_type": "markdown",
   "id": "b1f15905",
   "metadata": {},
   "source": [
    "We can check if the circuit is valid for this backend given the backend gate set."
   ]
  },
  {
   "cell_type": "code",
   "execution_count": 77,
   "id": "cec75aa7",
   "metadata": {},
   "outputs": [
    {
     "data": {
      "text/plain": [
       "False"
      ]
     },
     "execution_count": 77,
     "metadata": {},
     "output_type": "execute_result"
    }
   ],
   "source": [
    "IBM_backend.valid_circuit(circ3) #check if the circuit is valid"
   ]
  },
  {
   "cell_type": "markdown",
   "id": "eb2cf473",
   "metadata": {},
   "source": [
    "We see that we get \"false\" back. In this specific example, we have an `Rx`, `Ry`, and `Rz` gates. But the ibm_belem emulator only supports the `Rz` gate of these three. Hence we need to compile the circuit to this backend. The compilation of the circuit guarantees the circuit is in a format recognized by the simulator (or quantum computer). For this we use `backend.compile_circuit`."
   ]
  },
  {
   "cell_type": "code",
   "execution_count": 78,
   "id": "3fd59043",
   "metadata": {},
   "outputs": [
    {
     "data": {
      "text/html": [
       "\n",
       "\n",
       "\n",
       "\n",
       "\n",
       "\n",
       "<iframe srcdoc=\"\n",
       "&lt;!DOCTYPE html&gt;\n",
       "&lt;html lang=&#34;en&#34;&gt;\n",
       "&lt;head&gt;\n",
       "    &lt;meta charset=&#34;UTF-8&#34;&gt;\n",
       "\n",
       "    &lt;script type=&#34;application/javascript&#34; src=&#34;https://cdn.jsdelivr.net/npm/vue@3&#34;&gt;&lt;/script&gt;\n",
       "    &lt;script type=&#34;application/javascript&#34; src=&#34;https://unpkg.com/pytket-circuit-renderer@0.1/dist/pytket-circuit-renderer.umd.js&#34;&gt;&lt;/script&gt;\n",
       "    &lt;link rel=&#34;stylesheet&#34; href=&#34;https://unpkg.com/pytket-circuit-renderer@0.1/dist/pytket-circuit-renderer.css&#34;&gt;\n",
       "&lt;/head&gt;\n",
       "&lt;body&gt;\n",
       "    &lt;div id=&#34;circuit-display-vue-container-02754406-ae61-42e3-b0df-b5b7e3aa6fb3&#34; class=&#34;pytket-circuit-display-container&#34;&gt;\n",
       "        &lt;div style=&#34;display: none&#34;&gt;\n",
       "            &lt;div id=&#34;circuit-json-to-display&#34;&gt;{&#34;bits&#34;: [[&#34;c&#34;, [0]], [&#34;c&#34;, [1]]], &#34;commands&#34;: [{&#34;args&#34;: [[&#34;node&#34;, [1]]], &#34;op&#34;: {&#34;type&#34;: &#34;SX&#34;}}, {&#34;args&#34;: [[&#34;node&#34;, [2]]], &#34;op&#34;: {&#34;type&#34;: &#34;SX&#34;}}, {&#34;args&#34;: [[&#34;node&#34;, [1]]], &#34;op&#34;: {&#34;params&#34;: [&#34;0.5&#34;], &#34;type&#34;: &#34;Rz&#34;}}, {&#34;args&#34;: [[&#34;node&#34;, [2]]], &#34;op&#34;: {&#34;params&#34;: [&#34;-0.7&#34;], &#34;type&#34;: &#34;Rz&#34;}}, {&#34;args&#34;: [[&#34;node&#34;, [2]]], &#34;op&#34;: {&#34;type&#34;: &#34;SX&#34;}}, {&#34;args&#34;: [[&#34;node&#34;, [2]]], &#34;op&#34;: {&#34;params&#34;: [&#34;0.2&#34;], &#34;type&#34;: &#34;Rz&#34;}}, {&#34;args&#34;: [[&#34;node&#34;, [1]], [&#34;node&#34;, [2]]], &#34;op&#34;: {&#34;type&#34;: &#34;CX&#34;}}, {&#34;args&#34;: [[&#34;node&#34;, [2]]], &#34;op&#34;: {&#34;params&#34;: [&#34;0.3&#34;], &#34;type&#34;: &#34;Rz&#34;}}, {&#34;args&#34;: [[&#34;node&#34;, [1]], [&#34;node&#34;, [2]]], &#34;op&#34;: {&#34;type&#34;: &#34;CX&#34;}}, {&#34;args&#34;: [[&#34;node&#34;, [2]], [&#34;c&#34;, [0]]], &#34;op&#34;: {&#34;type&#34;: &#34;Measure&#34;}}, {&#34;args&#34;: [[&#34;node&#34;, [1]], [&#34;c&#34;, [1]]], &#34;op&#34;: {&#34;type&#34;: &#34;Measure&#34;}}], &#34;implicit_permutation&#34;: [[[&#34;node&#34;, [1]], [&#34;node&#34;, [1]]], [[&#34;node&#34;, [2]], [&#34;node&#34;, [2]]]], &#34;phase&#34;: &#34;1.25&#34;, &#34;qubits&#34;: [[&#34;node&#34;, [1]], [&#34;node&#34;, [2]]]}&lt;/div&gt;\n",
       "        &lt;/div&gt;\n",
       "        &lt;circuit-display-container :circuit-element-str=&#34;&#39;#circuit-json-to-display&#39;&#34;&gt;&lt;/circuit-display-container&gt;\n",
       "    &lt;/div&gt;\n",
       "\n",
       "    &lt;script type=&#34;application/javascript&#34;&gt;\n",
       "        const { createApp } = Vue;\n",
       "        const circuitDisplayContainer = window[&#34;pytket-circuit-renderer&#34;].default;\n",
       "\n",
       "        // Init variables to be shared between circuit display instances\n",
       "        if (typeof window.pytketCircuitDisplays === &#34;undefined&#34;) {\n",
       "            window.pytketCircuitDisplays = {};\n",
       "        }\n",
       "\n",
       "        const uid = &#34;02754406-ae61-42e3-b0df-b5b7e3aa6fb3&#34;;\n",
       "\n",
       "        // Create the root Vue component\n",
       "        window.pytketCircuitDisplays[uid] = createApp({\n",
       "            delimiters: [&#39;[[#&#39;, &#39;#]]&#39;],\n",
       "            components: { circuitDisplayContainer },\n",
       "        }).mount(&#34;#circuit-display-vue-container-&#34;+uid);\n",
       "    &lt;/script&gt;\n",
       "&lt;/body&gt;\n",
       "&lt;/html&gt;\n",
       "\"\n",
       "        width=\"100%\" height=\"200px\"\n",
       "        style=\"border: none; outline: none; resize: vertical; overflow: auto\"></iframe>\n",
       "\n"
      ],
      "text/plain": [
       "<IPython.core.display.HTML object>"
      ]
     },
     "metadata": {},
     "output_type": "display_data"
    }
   ],
   "source": [
    "compiled_circIBM = IBM_backend.get_compiled_circuit(circ3)\n",
    "render_circuit_jupyter(compiled_circIBM)"
   ]
  },
  {
   "cell_type": "code",
   "execution_count": 79,
   "id": "284a7bee",
   "metadata": {},
   "outputs": [
    {
     "data": {
      "text/plain": [
       "True"
      ]
     },
     "execution_count": 79,
     "metadata": {},
     "output_type": "execute_result"
    }
   ],
   "source": [
    "IBM_backend.valid_circuit(compiled_circIBM) #check if the circuit is valid"
   ]
  },
  {
   "cell_type": "markdown",
   "id": "8cd80d07",
   "metadata": {},
   "source": [
    "After compiling to the ibm_belem gate set, our new circuit is now valid to be run on this emulator. We will run 10 shots and then histogram the counts."
   ]
  },
  {
   "cell_type": "code",
   "execution_count": 80,
   "id": "de04554a",
   "metadata": {},
   "outputs": [],
   "source": [
    "quantum_handle = IBM_backend.process_circuit(compiled_circIBM, n_shots=10)"
   ]
  },
  {
   "cell_type": "code",
   "execution_count": 81,
   "id": "7d713b38",
   "metadata": {},
   "outputs": [
    {
     "name": "stdout",
     "output_type": "stream",
     "text": [
      "[[0 0]\n",
      " [1 1]\n",
      " [0 1]\n",
      " [0 1]\n",
      " [1 1]\n",
      " [0 0]\n",
      " [0 1]\n",
      " [0 1]\n",
      " [0 1]\n",
      " [0 1]]\n"
     ]
    }
   ],
   "source": [
    "quantum_shots = IBM_backend.get_result(quantum_handle).get_shots()\n",
    "print(quantum_shots)"
   ]
  },
  {
   "cell_type": "code",
   "execution_count": 82,
   "id": "193f6c48",
   "metadata": {},
   "outputs": [
    {
     "name": "stdout",
     "output_type": "stream",
     "text": [
      "Counter({(0, 1): 6, (0, 0): 2, (1, 1): 2})\n"
     ]
    }
   ],
   "source": [
    "counts = IBM_backend.get_result(quantum_handle).get_counts()\n",
    "print(counts)"
   ]
  },
  {
   "cell_type": "code",
   "execution_count": 83,
   "id": "202550c5",
   "metadata": {},
   "outputs": [],
   "source": [
    "import pandas as pd\n",
    "import seaborn as sns\n",
    "import matplotlib.pyplot as plt\n",
    "\n",
    "\n",
    "def plot_counts(counts):\n",
    "    counts_record = [{\"State\":state, \"Count\":count} for state, count in counts.items()]\n",
    "    count_df = pd.DataFrame().from_records(counts_record)\n",
    "    sns.catplot(x='State', y='Count', kind='bar', data=count_df, aspect = 3, height=2)\n",
    "    plt.show()"
   ]
  },
  {
   "cell_type": "code",
   "execution_count": 70,
   "id": "d8ba6238",
   "metadata": {},
   "outputs": [
    {
     "data": {
      "image/png": "[encoded data removed]",
      "text/plain": [
       "<Figure size 432x144 with 1 Axes>"
      ]
     },
     "metadata": {
      "needs_background": "light"
     },
     "output_type": "display_data"
    }
   ],
   "source": [
    "plot_counts(counts)"
   ]
  },
  {
   "cell_type": "markdown",
   "id": "111e63f6",
   "metadata": {},
   "source": [
    "## Running on the actual device\n",
    "\n",
    "Being able to run a circuit on a real machine is fun, but it comes with some difficulties. In particular, we must be prepared to stand and wait in a possible long queue before we get your results back from IBM. Let's create a backend for running on the actual device and check that our compiled circuit is also valid for this backend."
   ]
  },
  {
   "cell_type": "code",
   "execution_count": 84,
   "id": "f49ad7e7",
   "metadata": {},
   "outputs": [],
   "source": [
    "from pytket.extensions.qiskit import IBMQBackend"
   ]
  },
  {
   "cell_type": "code",
   "execution_count": 85,
   "id": "8fe5ade7",
   "metadata": {},
   "outputs": [
    {
     "data": {
      "text/plain": [
       "True"
      ]
     },
     "execution_count": 85,
     "metadata": {},
     "output_type": "execute_result"
    }
   ],
   "source": [
    "ibmq_b = IBMQBackend(\"ibmq_belem\")  #compile circuit to backend\n",
    "ibmq_b.valid_circuit(compiled_circIBM) #check if the circuit is valid"
   ]
  },
  {
   "cell_type": "markdown",
   "id": "d65c02cd",
   "metadata": {},
   "source": [
    "We are now good to run this circuit on the device. After submitting, we can use the handle to check on the status of the job, so that we know when results are ready to be retrieved. The `circuit_status` method works for all backends, and returns a CircuitStatus object. If we just run get_result straight away, the backend will wait for results to complete, blocking any other code from running."
   ]
  },
  {
   "cell_type": "code",
   "execution_count": 87,
   "id": "a069a1a2",
   "metadata": {},
   "outputs": [],
   "source": [
    "#quantum_handle_ibmq_b = ibmq_b.process_circuit(compiled_circIBM, n_shots=10)\n",
    "#print(ibmq_b.circuit_status(quantum_handle_ibmq_b))\n",
    "#shots = ibmq_b.get_result(quantum_handle_ibmq_b).get_shots()\n",
    "#print(shots)"
   ]
  }
 ],
 "metadata": {
  "kernelspec": {
   "display_name": "Python 3 (ipykernel)",
   "language": "python",
   "name": "python3"
  },
  "language_info": {
   "codemirror_mode": {
    "name": "ipython",
    "version": 3
   },
   "file_extension": ".py",
   "mimetype": "text/x-python",
   "name": "python",
   "nbconvert_exporter": "python",
   "pygments_lexer": "ipython3",
   "version": "3.10.4"
  }
 },
 "nbformat": 4,
 "nbformat_minor": 5
}
