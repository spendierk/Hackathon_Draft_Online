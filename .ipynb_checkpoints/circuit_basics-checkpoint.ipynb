{
 "cells": [
  {
   "cell_type": "markdown",
   "id": "3c374b89",
   "metadata": {},
   "source": [
    "# Building circuits with `pytket`\n",
    "\n",
    "Quantum computers (and simulators) available today can execute quantum programs given in a specific format,\n",
    "called a \"quantum circuit\". These circuits can be seen as the equivalent of assembly in classical computer science. Our work, therefore, consists of defining such quantum circuits so that they can be executed on the machine, or simulator, of our choice.\n",
    "\n",
    "Qubits are the basic unit of quantum computation and the quantum analog of classical bits. A qubit is represented as a combination of two quantum states of a given basis. There are many ways to realize qubits: energy level of electrons, photon polarization, or spin. For example, the most common basis is the $\\mathsf{Z}$-basis. For this basis, the quantum states of the hydrogen atom, for example, are expressed as $\\left|0\\right>$  for the “ground state” and $\\left|1\\right>$  for the “excited state”, equivalent to 0 or 1 when translated to classical bits. Qubits can be in any quantum state \n",
    "\n",
    "$$\n",
    "\\begin{equation*}\n",
    "\\left| \\psi \\right\\rangle=\n",
    "\\alpha\\left|0\\right> + \\beta\\left|1\\right>,\n",
    "\\end{equation*}\n",
    "$$\n",
    "\n",
    "with $\\alpha$ and $\\beta$ potentially being complex numbers. When we measure the qubit we get state $\\left|0\\right>$ with probability $|\\alpha|^2$ and state $\\left|1\\right>$ with probability $|\\beta|^2$. \n",
    "\n",
    "For a single electron in a hydrogen atom, the wavefunction for a basic 50-50 superposition in its electronic ground state and excited state can be written in the form of\n",
    "\n",
    "$$\n",
    "\\begin{equation*}\n",
    "\\left| \\psi \\right\\rangle = \\frac{1}{\\sqrt{2}} \\left( \\left| 0 \\right\\rangle + \\left| 1 \\right\\rangle\\right).\n",
    "\\end{equation*}\n",
    "$$\n",
    "\n",
    "When we measure this wavefunction, it will (theoretically) provide a result of 0 or 1 with a given probability. Specifically,  if we measure this qubit at the end of a computation, we get a single, definite value. That is, we get $\\left|0\\right>$ or $\\left|1\\right>$, each with some probability, not a superposition of $\\left|0\\right>$ and $\\left|1\\right>$. Geometrically, this particular qubit lies on the equator, halfway between the north and south poles of the Bloch sphere, so if we measure it, we get $\\left|0\\right>$ with probability 1/2 or $\\left|1\\right>$ with probability 1/2.  "
   ]
  },
  {
   "cell_type": "code",
   "execution_count": 23,
   "id": "6e2b36bd",
   "metadata": {},
   "outputs": [
    {
     "ename": "SyntaxError",
     "evalue": "invalid syntax (3344637984.py, line 3)",
     "output_type": "error",
     "traceback": [
      "\u001b[1;36m  Input \u001b[1;32mIn [23]\u001b[1;36m\u001b[0m\n\u001b[1;33m    pip install qutip\u001b[0m\n\u001b[1;37m        ^\u001b[0m\n\u001b[1;31mSyntaxError\u001b[0m\u001b[1;31m:\u001b[0m invalid syntax\n"
     ]
    }
   ],
   "source": [
    "import warnings #used to disable warnings in this jupyter notebook, can be omitted \n",
    "warnings.filterwarnings('ignore') #used to disable warnings in this jupyter notebook, can be omitted\n",
    "pip install qutip   "
   ]
  },
  {
   "cell_type": "code",
   "execution_count": 15,
   "id": "3ba4c998",
   "metadata": {},
   "outputs": [
    {
     "ename": "ModuleNotFoundError",
     "evalue": "No module named 'qutip'",
     "output_type": "error",
     "traceback": [
      "\u001b[1;31m---------------------------------------------------------------------------\u001b[0m",
      "\u001b[1;31mModuleNotFoundError\u001b[0m                       Traceback (most recent call last)",
      "Input \u001b[1;32mIn [15]\u001b[0m, in \u001b[0;36m<cell line: 3>\u001b[1;34m()\u001b[0m\n\u001b[0;32m      1\u001b[0m \u001b[38;5;28;01mimport\u001b[39;00m \u001b[38;5;21;01mnumpy\u001b[39;00m \u001b[38;5;28;01mas\u001b[39;00m \u001b[38;5;21;01mnp\u001b[39;00m\n\u001b[0;32m      2\u001b[0m \u001b[38;5;28;01mfrom\u001b[39;00m \u001b[38;5;21;01mpylab\u001b[39;00m \u001b[38;5;28;01mimport\u001b[39;00m \u001b[38;5;241m*\u001b[39m\n\u001b[1;32m----> 3\u001b[0m \u001b[38;5;28;01mfrom\u001b[39;00m \u001b[38;5;21;01mqutip\u001b[39;00m \u001b[38;5;28;01mimport\u001b[39;00m \u001b[38;5;241m*\u001b[39m\n\u001b[0;32m      5\u001b[0m b \u001b[38;5;241m=\u001b[39m qutip\u001b[38;5;241m.\u001b[39mBloch()\n\u001b[0;32m      6\u001b[0m pnt \u001b[38;5;241m=\u001b[39m [\u001b[38;5;241m1\u001b[39m, \u001b[38;5;241m0\u001b[39m,\u001b[38;5;241m0\u001b[39m]\n",
      "\u001b[1;31mModuleNotFoundError\u001b[0m: No module named 'qutip'"
     ]
    }
   ],
   "source": [
    "import numpy as np\n",
    "from pylab import *\n",
    "from qutip import *\n",
    "\n",
    "b = qutip.Bloch()\n",
    "pnt = [1, 0,0]\n",
    "b.add_points(pnt)\n",
    "\n",
    "b.show()"
   ]
  },
  {
   "cell_type": "markdown",
   "id": "de9cb792",
   "metadata": {},
   "source": [
    "A set of distinct measurement outcomes is called a basis, and $\\left|0\\right>,\\left|1\\right>$ is called the $\\mathsf{Z}$-basis because they lie on the z-axis of the Bloch sphere. This is why we introduced $\\left|0\\right>$ and $\\left|1\\right>$ as the north and south poles, respectively, of the Bloch sphere.\n",
    "\n",
    "\n",
    "To calculate these probabilities, we take the norm-square of the coefficient of $\\left|0\\right>$ or $\\left|1\\right>$. That is, the probability of getting $\\left|0\\right>$ (or $\\left|1\\right>$) is\n",
    "\n",
    "$$\n",
    "\\begin{equation*}\n",
    "\\left| \\frac{1}{\\sqrt{2}} \\right|^2 = \\frac{1}{2}.\n",
    "\\end{equation*}\n",
    "$$\n",
    "\n",
    "One way to create a qubit in such superposition, is to take a qubit initialized in the “ground state” and then apply the Hadamard gate, or H gate, to it: $\\left| \\psi \\right\\rangle = H \\left| 0 \\right\\rangle$.\n",
    "\n",
    "Here the H gate corrresponds to the following matrix\n",
    "\n",
    "$$\n",
    "\\begin{equation*}\n",
    "H=\\frac{1}{\\sqrt{2}}\n",
    "\\begin{pmatrix}\n",
    "1 & 1 \\\\\n",
    "1 & -1\n",
    "\\end{pmatrix}\\,\\, ,\n",
    "\\end{equation*}\n",
    "$$\n",
    "\n",
    "and $\\left|0\\right>$ and $\\left|1\\right>$ are column vectors, which are vertical lists of numbers\n",
    "\n",
    "$$\n",
    "\\begin{equation*}\n",
    "\\left|0\\right> =\n",
    "\\begin{pmatrix}\n",
    "1 \\\\\n",
    "0\n",
    "\\end{pmatrix}\\,\\, ,\n",
    "\\left|1\\right> =\n",
    "\\begin{pmatrix}\n",
    "0 \\\\\n",
    "1\n",
    "\\end{pmatrix}\\,\\,.\n",
    "\\end{equation*}\n",
    "$$\n",
    "\n",
    "Following the rules of linear algebra, we can show that we obtain $ \\left| \\psi \\right\\rangle = \\frac{1}{\\sqrt{2}} \\left( \\left| 0 \\right\\rangle + \\left| 1 \\right\\rangle\\right)$  given that we can write \n",
    "\n",
    "$$\n",
    "\\begin{equation*}\n",
    "\\left| \\psi \\right\\rangle=\n",
    "\\begin{pmatrix}\n",
    "\\alpha \\\\\n",
    "\\beta\n",
    "\\end{pmatrix}\\,\\, =\n",
    "\\alpha\\left|0\\right> + \\beta\\left|1\\right>,\n",
    "\\end{equation*}\n",
    "$$\n",
    "\n",
    "with $\\alpha = \\beta = 1/\\sqrt{2}$.\n",
    "\n",
    "\n"
   ]
  },
  {
   "cell_type": "markdown",
   "id": "3dd3ee08",
   "metadata": {},
   "source": [
    "## Creating a Circuit\n",
    "\n",
    "To rewrite this wavefunction in terms of a circuit, i.e. taking a qubit initialized in the “ground state” and then applying the Hadamard gate, we need to first import the [circuit class](https://cqcl.github.io/pytket/manual/manual_circuit.html) from TKET."
   ]
  },
  {
   "cell_type": "code",
   "execution_count": 16,
   "id": "96cb6d96",
   "metadata": {},
   "outputs": [],
   "source": [
    "from pytket import Circuit"
   ]
  },
  {
   "cell_type": "markdown",
   "id": "fba848d8",
   "metadata": {},
   "source": [
    "Then to display the circuit we want to evaluate we also need to import"
   ]
  },
  {
   "cell_type": "code",
   "execution_count": 17,
   "id": "796c1c7b",
   "metadata": {},
   "outputs": [],
   "source": [
    "from pytket.circuit.display import render_circuit_jupyter"
   ]
  },
  {
   "cell_type": "markdown",
   "id": "d5db0c97",
   "metadata": {},
   "source": [
    "Then we define our circuit with a single qubit, q[0], and classical bit, c[0], and then apply the The Hadamard gate to it."
   ]
  },
  {
   "cell_type": "code",
   "execution_count": 18,
   "id": "5c5b4dc0",
   "metadata": {},
   "outputs": [
    {
     "data": {
      "text/plain": [
       "[H q[0]; ]"
      ]
     },
     "execution_count": 18,
     "metadata": {},
     "output_type": "execute_result"
    }
   ],
   "source": [
    "circ = Circuit(1,1)\n",
    "circ.H(0)"
   ]
  },
  {
   "cell_type": "markdown",
   "id": "2d5ea090",
   "metadata": {},
   "source": [
    "At this step, the qubit q[0] is in a superposition state. We can show a schematic of the corresponding circuit by evaluating"
   ]
  },
  {
   "cell_type": "code",
   "execution_count": 19,
   "id": "675408fe",
   "metadata": {},
   "outputs": [
    {
     "data": {
      "text/html": [
       "\n",
       "\n",
       "\n",
       "\n",
       "\n",
       "\n",
       "<iframe srcdoc=\"\n",
       "&lt;!DOCTYPE html&gt;\n",
       "&lt;html lang=&#34;en&#34;&gt;\n",
       "&lt;head&gt;\n",
       "    &lt;meta charset=&#34;UTF-8&#34;&gt;\n",
       "\n",
       "    &lt;script type=&#34;application/javascript&#34; src=&#34;https://cdn.jsdelivr.net/npm/vue@3&#34;&gt;&lt;/script&gt;\n",
       "    &lt;script type=&#34;application/javascript&#34; src=&#34;https://unpkg.com/pytket-circuit-renderer@0.1/dist/pytket-circuit-renderer.umd.js&#34;&gt;&lt;/script&gt;\n",
       "    &lt;link rel=&#34;stylesheet&#34; href=&#34;https://unpkg.com/pytket-circuit-renderer@0.1/dist/pytket-circuit-renderer.css&#34;&gt;\n",
       "&lt;/head&gt;\n",
       "&lt;body&gt;\n",
       "    &lt;div id=&#34;circuit-display-vue-container-195f0f00-f426-4dcc-a044-ae72ea0424c7&#34; class=&#34;pytket-circuit-display-container&#34;&gt;\n",
       "        &lt;div style=&#34;display: none&#34;&gt;\n",
       "            &lt;div id=&#34;circuit-json-to-display&#34;&gt;{&#34;bits&#34;: [[&#34;c&#34;, [0]]], &#34;commands&#34;: [{&#34;args&#34;: [[&#34;q&#34;, [0]]], &#34;op&#34;: {&#34;type&#34;: &#34;H&#34;}}], &#34;implicit_permutation&#34;: [[[&#34;q&#34;, [0]], [&#34;q&#34;, [0]]]], &#34;phase&#34;: &#34;0.0&#34;, &#34;qubits&#34;: [[&#34;q&#34;, [0]]]}&lt;/div&gt;\n",
       "        &lt;/div&gt;\n",
       "        &lt;circuit-display-container :circuit-element-str=&#34;&#39;#circuit-json-to-display&#39;&#34;&gt;&lt;/circuit-display-container&gt;\n",
       "    &lt;/div&gt;\n",
       "\n",
       "    &lt;script type=&#34;application/javascript&#34;&gt;\n",
       "        const { createApp } = Vue;\n",
       "        const circuitDisplayContainer = window[&#34;pytket-circuit-renderer&#34;].default;\n",
       "\n",
       "        // Init variables to be shared between circuit display instances\n",
       "        if (typeof window.pytketCircuitDisplays === &#34;undefined&#34;) {\n",
       "            window.pytketCircuitDisplays = {};\n",
       "        }\n",
       "\n",
       "        const uid = &#34;195f0f00-f426-4dcc-a044-ae72ea0424c7&#34;;\n",
       "\n",
       "        // Create the root Vue component\n",
       "        window.pytketCircuitDisplays[uid] = createApp({\n",
       "            delimiters: [&#39;[[#&#39;, &#39;#]]&#39;],\n",
       "            components: { circuitDisplayContainer },\n",
       "        }).mount(&#34;#circuit-display-vue-container-&#34;+uid);\n",
       "    &lt;/script&gt;\n",
       "&lt;/body&gt;\n",
       "&lt;/html&gt;\n",
       "\"\n",
       "        width=\"100%\" height=\"200px\"\n",
       "        style=\"border: none; outline: none; resize: vertical; overflow: auto\"></iframe>\n",
       "\n"
      ],
      "text/plain": [
       "<IPython.core.display.HTML object>"
      ]
     },
     "metadata": {},
     "output_type": "display_data"
    }
   ],
   "source": [
    "render_circuit_jupyter(circ)"
   ]
  },
  {
   "cell_type": "markdown",
   "id": "2b3ff21a",
   "metadata": {},
   "source": [
    "But a real device won't work like this. We cannot observe a full quantum state. We have to make observations and measurments. In fact, we need to sample from a probabilisitic distribution."
   ]
  },
  {
   "cell_type": "markdown",
   "id": "90565d76",
   "metadata": {},
   "source": [
    "## Measurement\n",
    "\n",
    "In `pytket`, all measurements are single-qubit measurements in the $\\mathsf{Z}$-basis. Other forms of measurements can be constructed by combining these with other operations. Measurements produce classical data from the resulting state. Here, c[0] is a calssical register, or classical bit, which we obtain after measuring qubit q[0]. c[0] will either be 0 or 1."
   ]
  },
  {
   "cell_type": "code",
   "execution_count": 20,
   "id": "3a138980",
   "metadata": {},
   "outputs": [
    {
     "data": {
      "text/html": [
       "\n",
       "\n",
       "\n",
       "\n",
       "\n",
       "\n",
       "<iframe srcdoc=\"\n",
       "&lt;!DOCTYPE html&gt;\n",
       "&lt;html lang=&#34;en&#34;&gt;\n",
       "&lt;head&gt;\n",
       "    &lt;meta charset=&#34;UTF-8&#34;&gt;\n",
       "\n",
       "    &lt;script type=&#34;application/javascript&#34; src=&#34;https://cdn.jsdelivr.net/npm/vue@3&#34;&gt;&lt;/script&gt;\n",
       "    &lt;script type=&#34;application/javascript&#34; src=&#34;https://unpkg.com/pytket-circuit-renderer@0.1/dist/pytket-circuit-renderer.umd.js&#34;&gt;&lt;/script&gt;\n",
       "    &lt;link rel=&#34;stylesheet&#34; href=&#34;https://unpkg.com/pytket-circuit-renderer@0.1/dist/pytket-circuit-renderer.css&#34;&gt;\n",
       "&lt;/head&gt;\n",
       "&lt;body&gt;\n",
       "    &lt;div id=&#34;circuit-display-vue-container-9390e524-bfab-4fd5-91b1-91c0147de694&#34; class=&#34;pytket-circuit-display-container&#34;&gt;\n",
       "        &lt;div style=&#34;display: none&#34;&gt;\n",
       "            &lt;div id=&#34;circuit-json-to-display&#34;&gt;{&#34;bits&#34;: [[&#34;c&#34;, [0]]], &#34;commands&#34;: [{&#34;args&#34;: [[&#34;q&#34;, [0]]], &#34;op&#34;: {&#34;type&#34;: &#34;H&#34;}}, {&#34;args&#34;: [[&#34;q&#34;, [0]], [&#34;c&#34;, [0]]], &#34;op&#34;: {&#34;type&#34;: &#34;Measure&#34;}}], &#34;implicit_permutation&#34;: [[[&#34;q&#34;, [0]], [&#34;q&#34;, [0]]]], &#34;phase&#34;: &#34;0.0&#34;, &#34;qubits&#34;: [[&#34;q&#34;, [0]]]}&lt;/div&gt;\n",
       "        &lt;/div&gt;\n",
       "        &lt;circuit-display-container :circuit-element-str=&#34;&#39;#circuit-json-to-display&#39;&#34;&gt;&lt;/circuit-display-container&gt;\n",
       "    &lt;/div&gt;\n",
       "\n",
       "    &lt;script type=&#34;application/javascript&#34;&gt;\n",
       "        const { createApp } = Vue;\n",
       "        const circuitDisplayContainer = window[&#34;pytket-circuit-renderer&#34;].default;\n",
       "\n",
       "        // Init variables to be shared between circuit display instances\n",
       "        if (typeof window.pytketCircuitDisplays === &#34;undefined&#34;) {\n",
       "            window.pytketCircuitDisplays = {};\n",
       "        }\n",
       "\n",
       "        const uid = &#34;9390e524-bfab-4fd5-91b1-91c0147de694&#34;;\n",
       "\n",
       "        // Create the root Vue component\n",
       "        window.pytketCircuitDisplays[uid] = createApp({\n",
       "            delimiters: [&#39;[[#&#39;, &#39;#]]&#39;],\n",
       "            components: { circuitDisplayContainer },\n",
       "        }).mount(&#34;#circuit-display-vue-container-&#34;+uid);\n",
       "    &lt;/script&gt;\n",
       "&lt;/body&gt;\n",
       "&lt;/html&gt;\n",
       "\"\n",
       "        width=\"100%\" height=\"200px\"\n",
       "        style=\"border: none; outline: none; resize: vertical; overflow: auto\"></iframe>\n",
       "\n"
      ],
      "text/plain": [
       "<IPython.core.display.HTML object>"
      ]
     },
     "metadata": {},
     "output_type": "display_data"
    }
   ],
   "source": [
    "circ.measure_all()\n",
    "render_circuit_jupyter(circ)"
   ]
  },
  {
   "cell_type": "markdown",
   "id": "2e8a2699",
   "metadata": {},
   "source": [
    "Specifically, if we would prepare q[0] this way 1000 times and measure q[0], roughly 50% of the 1000 measures provided a 0 and 50% provided a 1, as expected.\n",
    "\n",
    "To implement such measurements, we already installed `pytket-qiskit`. `pytket-qiskit` integrates `qiskit` into `pytket`, an IBM tool that, among other things, provides access to their quantum computers and numerous simulators. For this section, we will use the noiseless AerSimulator. This is a simulator we can run on our computer. We will discuss how to run a circuit on a \"real\" quantum computer in a different section."
   ]
  },
  {
   "cell_type": "code",
   "execution_count": 21,
   "id": "c59f3f80",
   "metadata": {},
   "outputs": [],
   "source": [
    "from pytket.extensions.qiskit import AerBackend\n",
    "backend = AerBackend()"
   ]
  },
  {
   "cell_type": "markdown",
   "id": "d52296fd",
   "metadata": {},
   "source": [
    "We can check the required conditions to be satisfied for the circuit to be run on this backend. For this, we can use `required_predicates`. This tells us which gates are supported; in case gates are not supported, your circuit can be compiled for a given backend, and re-written in the supported gates, i.e. rotations can be decomposed into a set of Euler angles."
   ]
  },
  {
   "cell_type": "code",
   "execution_count": 22,
   "id": "ef4c4871",
   "metadata": {},
   "outputs": [
    {
     "data": {
      "text/plain": [
       "[NoSymbolsPredicate,\n",
       " GateSetPredicate:{ S Barrier Sdg RangePredicate Unitary2qBox Z X Y T Tdg SX SXdg H Rx Ry Rz U3 U2 U1 TK1 CX CY CZ CU1 CU3 CCX SWAP CSWAP noop Measure Reset PhasedX XXPhase YYPhase ZZPhase CnX Unitary1qBox }]"
      ]
     },
     "execution_count": 22,
     "metadata": {},
     "output_type": "execute_result"
    }
   ],
   "source": [
    "backend.required_predicates"
   ]
  },
  {
   "cell_type": "markdown",
   "id": "64d8e499",
   "metadata": {},
   "source": [
    "Looks all good. the AerBackend supports the `H` gate and has a measurment option.\n",
    "\n",
    "Next we run the circuits by sampling it. Since we have to sample, we have to indicate how many samples we want to take. Suppose we would like to get 10 shots out from the AerBackend (10 repeats of the circuit and measurement). We can seed the simulator's random-number generator to make the results reproducible, using an optional keyword argument to `process_circuit`."
   ]
  },
  {
   "cell_type": "code",
   "execution_count": 32,
   "id": "a2afe2f3",
   "metadata": {},
   "outputs": [],
   "source": [
    "handle = backend.process_circuit(circ, n_shots=10, seed=1)"
   ]
  },
  {
   "cell_type": "markdown",
   "id": "a826b6cc",
   "metadata": {},
   "source": [
    "Now, we can output a shot table:"
   ]
  },
  {
   "cell_type": "code",
   "execution_count": 33,
   "id": "5af03412",
   "metadata": {},
   "outputs": [
    {
     "name": "stdout",
     "output_type": "stream",
     "text": [
      "[[1]\n",
      " [1]\n",
      " [0]\n",
      " [0]\n",
      " [1]\n",
      " [0]\n",
      " [0]\n",
      " [0]\n",
      " [0]\n",
      " [0]]\n"
     ]
    }
   ],
   "source": [
    "shots = backend.get_result(handle).get_shots()\n",
    "print(shots)"
   ]
  },
  {
   "cell_type": "markdown",
   "id": "75ad6cdb",
   "metadata": {},
   "source": [
    "These are our 10 measurements. The column represents the classical register, c[0], of qubit q[0]. We can also get a summary of the results by looking at counts."
   ]
  },
  {
   "cell_type": "code",
   "execution_count": 22,
   "id": "eae9ab2e",
   "metadata": {},
   "outputs": [
    {
     "name": "stdout",
     "output_type": "stream",
     "text": [
      "Counter({(0,): 7, (1,): 3})\n"
     ]
    }
   ],
   "source": [
    "counts = backend.get_result(handle).get_counts()\n",
    "print(counts)"
   ]
  },
  {
   "cell_type": "markdown",
   "id": "133ff36d",
   "metadata": {},
   "source": [
    "Or we can plot a histogram of our results."
   ]
  },
  {
   "cell_type": "code",
   "execution_count": 23,
   "id": "d98b2305",
   "metadata": {},
   "outputs": [],
   "source": [
    "import pandas as pd\n",
    "import seaborn as sns\n",
    "import matplotlib.pyplot as plt\n",
    "\n",
    "\n",
    "def plot_counts(counts):\n",
    "    counts_record = [{\"State\":state, \"Count\":count} for state, count in counts.items()]\n",
    "    count_df = pd.DataFrame().from_records(counts_record)\n",
    "    sns.catplot(x='State', y='Count', kind='bar', data=count_df, aspect = 3, height=2)\n",
    "    plt.show()"
   ]
  },
  {
   "cell_type": "code",
   "execution_count": 15,
   "id": "7e929628",
   "metadata": {},
   "outputs": [
    {
     "data": {
      "image/png": "[encoded data removed]",
      "text/plain": [
       "<Figure size 432x144 with 1 Axes>"
      ]
     },
     "metadata": {
      "needs_background": "light"
     },
     "output_type": "display_data"
    }
   ],
   "source": [
    "plot_counts(counts)"
   ]
  },
  {
   "cell_type": "markdown",
   "id": "4509e0c6",
   "metadata": {},
   "source": [
    "## Creating more complex circuits\n",
    "\n",
    "We can make circuits more complicated than the example of the uniform superposition state above. Besides the Hadamard gate, among the most common gates are the rotations (around the X, Y, or Z axis) as well as the \"control-NOT\" (CNot), the controlled negation, also called `CX`. The list of all the gates available in `pytket` is quite long. It is\n",
    "available in the documentation [here](https://cqcl.github.io/tket/pytket/api/optype.html).\n",
    "\n",
    "Let's apply some of these gates to a new circuit with 3 qubits and 3 classical bits."
   ]
  },
  {
   "cell_type": "code",
   "execution_count": 27,
   "id": "d587e7d5",
   "metadata": {},
   "outputs": [
    {
     "data": {
      "text/html": [
       "\n",
       "\n",
       "\n",
       "\n",
       "\n",
       "\n",
       "<iframe srcdoc=\"\n",
       "&lt;!DOCTYPE html&gt;\n",
       "&lt;html lang=&#34;en&#34;&gt;\n",
       "&lt;head&gt;\n",
       "    &lt;meta charset=&#34;UTF-8&#34;&gt;\n",
       "\n",
       "    &lt;script type=&#34;application/javascript&#34; src=&#34;https://cdn.jsdelivr.net/npm/vue@3&#34;&gt;&lt;/script&gt;\n",
       "    &lt;script type=&#34;application/javascript&#34; src=&#34;https://unpkg.com/pytket-circuit-renderer@0.1/dist/pytket-circuit-renderer.umd.js&#34;&gt;&lt;/script&gt;\n",
       "    &lt;link rel=&#34;stylesheet&#34; href=&#34;https://unpkg.com/pytket-circuit-renderer@0.1/dist/pytket-circuit-renderer.css&#34;&gt;\n",
       "&lt;/head&gt;\n",
       "&lt;body&gt;\n",
       "    &lt;div id=&#34;circuit-display-vue-container-1685ec83-f688-4ffe-b6dd-4abcecb59d63&#34; class=&#34;pytket-circuit-display-container&#34;&gt;\n",
       "        &lt;div style=&#34;display: none&#34;&gt;\n",
       "            &lt;div id=&#34;circuit-json-to-display&#34;&gt;{&#34;bits&#34;: [[&#34;c&#34;, [0]], [&#34;c&#34;, [1]], [&#34;c&#34;, [2]]], &#34;commands&#34;: [{&#34;args&#34;: [[&#34;q&#34;, [0]]], &#34;op&#34;: {&#34;params&#34;: [&#34;0.25&#34;], &#34;type&#34;: &#34;Rz&#34;}}, {&#34;args&#34;: [[&#34;q&#34;, [1]]], &#34;op&#34;: {&#34;params&#34;: [&#34;0.5&#34;], &#34;type&#34;: &#34;Rx&#34;}}, {&#34;args&#34;: [[&#34;q&#34;, [1]], [&#34;c&#34;, [1]]], &#34;op&#34;: {&#34;type&#34;: &#34;Measure&#34;}}, {&#34;args&#34;: [[&#34;q&#34;, [0]], [&#34;q&#34;, [2]]], &#34;op&#34;: {&#34;type&#34;: &#34;CX&#34;}}, {&#34;args&#34;: [[&#34;q&#34;, [0]], [&#34;c&#34;, [0]]], &#34;op&#34;: {&#34;type&#34;: &#34;Measure&#34;}}, {&#34;args&#34;: [[&#34;q&#34;, [2]], [&#34;c&#34;, [2]]], &#34;op&#34;: {&#34;type&#34;: &#34;Measure&#34;}}], &#34;implicit_permutation&#34;: [[[&#34;q&#34;, [0]], [&#34;q&#34;, [0]]], [[&#34;q&#34;, [1]], [&#34;q&#34;, [1]]], [[&#34;q&#34;, [2]], [&#34;q&#34;, [2]]]], &#34;phase&#34;: &#34;0.0&#34;, &#34;qubits&#34;: [[&#34;q&#34;, [0]], [&#34;q&#34;, [1]], [&#34;q&#34;, [2]]]}&lt;/div&gt;\n",
       "        &lt;/div&gt;\n",
       "        &lt;circuit-display-container :circuit-element-str=&#34;&#39;#circuit-json-to-display&#39;&#34;&gt;&lt;/circuit-display-container&gt;\n",
       "    &lt;/div&gt;\n",
       "\n",
       "    &lt;script type=&#34;application/javascript&#34;&gt;\n",
       "        const { createApp } = Vue;\n",
       "        const circuitDisplayContainer = window[&#34;pytket-circuit-renderer&#34;].default;\n",
       "\n",
       "        // Init variables to be shared between circuit display instances\n",
       "        if (typeof window.pytketCircuitDisplays === &#34;undefined&#34;) {\n",
       "            window.pytketCircuitDisplays = {};\n",
       "        }\n",
       "\n",
       "        const uid = &#34;1685ec83-f688-4ffe-b6dd-4abcecb59d63&#34;;\n",
       "\n",
       "        // Create the root Vue component\n",
       "        window.pytketCircuitDisplays[uid] = createApp({\n",
       "            delimiters: [&#39;[[#&#39;, &#39;#]]&#39;],\n",
       "            components: { circuitDisplayContainer },\n",
       "        }).mount(&#34;#circuit-display-vue-container-&#34;+uid);\n",
       "    &lt;/script&gt;\n",
       "&lt;/body&gt;\n",
       "&lt;/html&gt;\n",
       "\"\n",
       "        width=\"100%\" height=\"200px\"\n",
       "        style=\"border: none; outline: none; resize: vertical; overflow: auto\"></iframe>\n",
       "\n"
      ],
      "text/plain": [
       "<IPython.core.display.HTML object>"
      ]
     },
     "metadata": {},
     "output_type": "display_data"
    }
   ],
   "source": [
    "n_qubits = 3\n",
    "n_bits = 3\n",
    "circ2 = Circuit(n_qubits,n_bits)\n",
    "# a X rotation with angle pi/2 on the qubit 1\n",
    "circ2.Rx(0.5, 1)\n",
    "# a Z rotation with angle pi/4 on the qubit 0\n",
    "circ2.Rz(0.25, 0)\n",
    "# a CNot gate between qubits 0 and 2\n",
    "circ2.CX(0, 2)\n",
    "circ2.measure_all()\n",
    "render_circuit_jupyter(circ2)\n"
   ]
  },
  {
   "cell_type": "markdown",
   "id": "b330fcd3",
   "metadata": {},
   "source": [
    "We have seen how to define a circuit and visualize it, as well as how to run it on a simlator. Next, we will discuss how to run a circuit on an emulator or actual quantum computer."
   ]
  }
 ],
 "metadata": {
  "kernelspec": {
   "display_name": "Python 3 (ipykernel)",
   "language": "python",
   "name": "python3"
  },
  "language_info": {
   "codemirror_mode": {
    "name": "ipython",
    "version": 3
   },
   "file_extension": ".py",
   "mimetype": "text/x-python",
   "name": "python",
   "nbconvert_exporter": "python",
   "pygments_lexer": "ipython3",
   "version": "3.10.4"
  }
 },
 "nbformat": 4,
 "nbformat_minor": 5
}
