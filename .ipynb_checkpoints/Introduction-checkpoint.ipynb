{
 "cells": [
  {
   "cell_type": "markdown",
   "id": "f22c08c1",
   "metadata": {},
   "source": [
    "# Getting ready with `pytket`\n"
   ]
  },
  {
   "cell_type": "markdown",
   "id": "a968098c",
   "metadata": {},
   "source": [
    "[Pytket](https://cqcl.github.io/tket/pytket/api/index.html) is a Python toolkit for quantum programming developed by Cambridge Quantum Computing, an extension of their larger TKET toolchain. TKET encompasses the entire toolset of high-performance tools for quantum programming, primarily written in C++. Hence, `pytket` is a Python interface to TKET, a platform-agnostic quantum software development kit (QSDK).\n",
    "\n",
    "## Installation\n",
    "\n",
    "First, make sure that a recent version of\n",
    "[Python](https://www.python.org/downloads/) is installed on your machine.\n",
    "You can check this in a terminal:"
   ]
  },
  {
   "cell_type": "markdown",
   "id": "ebb51888",
   "metadata": {},
   "source": [
    "```python --version```"
   ]
  },
  {
   "cell_type": "markdown",
   "id": "1725bb43",
   "metadata": {},
   "source": [
    "I would recommend using either `Python 3.9` or `Python 3.10`."
   ]
  },
  {
   "cell_type": "markdown",
   "id": "abd4aade",
   "metadata": {},
   "source": [
    "### Jupyter Notebook Installation\n",
    "\n",
    "In case you don't have access to Python or a Jupyter Notebook yet, I suggest you install Anaconda.\n",
    "\n",
    "#### Step 0: The browser\n",
    "Step “zero” consists in installing a modern standard-compliant browser. Either Mozilla Firefox or Google \n",
    "Chrome will work well. Try to avoid MS Explorer.\n",
    "\n",
    "#### Step 1: Installation\n",
    "The easiest way to install the Jupyter Notebook App is installing a scientific python distribution which \n",
    "also includes scientific python packages. The most common distribution is called Anaconda:<br>\n",
    "https://www.anaconda.com/products/distribution \n",
    "\n",
    "Download Anaconda Distribution (a few 100MB), Python 3, 64 bits.<br>\n",
    "Install it using the default settings for a single user.\n",
    "\n",
    "#### Step 2: open Jupyter Notebook\n",
    "Open the application Anaconda. You should see the Anaconda Navigator panel open. Most of this stuff we do \n",
    "not need.  Click on the Jupyter Notebook panel. What will open is a web browser, which is what Jupyter \n",
    "displays on. You should see a file directory displayed. \n",
    "\n",
    "To create a new notebook, click on “New” and select “Python 3”."
   ]
  },
  {
   "cell_type": "markdown",
   "id": "e304d747",
   "metadata": {},
   "source": [
    "## Create a virtual environment\n",
    "\n",
    "It is usually best to create Python projects in independent environments to avoid potentially conflicting dependencies between different packages. For this hackathon, choose the virtual environment manager you prefer.\n",
    "All Python code that follows will be the same in any virtual environment.\n",
    "\n",
    "\n",
    "#### When using Anaconda Navigator\n",
    "\n",
    "Open the “Anaconda Navigator” and go to “Environments”. Then click on the “create” button on the bottom \n",
    "to make a new TKET environment by typing, for example, the name “tket” . Select the python version 3.9 or 3.10, then click create. \n",
    "\n",
    "Then you can activate the “tket“ environment by slecting \"tket\" in the \"Environments\" tab and then clicking on \"Home\". You should see a Jupyter Notebook pannel. Click on \"Install\". When the installation is completed, you then click the \"Launch\" button. You can select your working folder and click on \"NEW\" to open a new and select “Python 3” to open a working Jupyter notebook.\n"
   ]
  },
  {
   "cell_type": "markdown",
   "id": "52702817",
   "metadata": {},
   "source": [
    "## Install `pytket` and `qiskit`\n",
    "\n",
    "Once you opened a new Jupyter notebook, the TKET tool we will use in this hackathon is accessible through the Python package `pytket`. You will thus be able to access all TKET features directly from `pytket` by installing"
   ]
  },
  {
   "cell_type": "code",
   "execution_count": 1,
   "id": "d76732e0",
   "metadata": {},
   "outputs": [
    {
     "name": "stdout",
     "output_type": "stream",
     "text": [
      "Requirement already satisfied: pytket in c:\\users\\kathrin.spendier\\anaconda3\\envs\\tket\\lib\\site-packages (1.3.0)Note: you may need to restart the kernel to use updated packages.\n",
      "\n",
      "Requirement already satisfied: scipy<2.0,>=1.7.2 in c:\\users\\kathrin.spendier\\anaconda3\\envs\\tket\\lib\\site-packages (from pytket) (1.8.1)\n",
      "Requirement already satisfied: sympy~=1.6 in c:\\users\\kathrin.spendier\\anaconda3\\envs\\tket\\lib\\site-packages (from pytket) (1.10.1)\n",
      "Requirement already satisfied: types-pkg-resources in c:\\users\\kathrin.spendier\\anaconda3\\envs\\tket\\lib\\site-packages (from pytket) (0.1.3)\n",
      "Requirement already satisfied: typing-extensions~=4.2 in c:\\users\\kathrin.spendier\\anaconda3\\envs\\tket\\lib\\site-packages (from pytket) (4.3.0)\n",
      "Requirement already satisfied: jinja2~=3.0 in c:\\users\\kathrin.spendier\\anaconda3\\envs\\tket\\lib\\site-packages (from pytket) (3.1.2)\n",
      "Requirement already satisfied: numpy<2.0,>=1.21.4 in c:\\users\\kathrin.spendier\\anaconda3\\envs\\tket\\lib\\site-packages (from pytket) (1.23.0)\n",
      "Requirement already satisfied: networkx~=2.4 in c:\\users\\kathrin.spendier\\anaconda3\\envs\\tket\\lib\\site-packages (from pytket) (2.8.4)\n",
      "Requirement already satisfied: graphviz~=0.14 in c:\\users\\kathrin.spendier\\anaconda3\\envs\\tket\\lib\\site-packages (from pytket) (0.20)\n",
      "Requirement already satisfied: lark-parser~=0.7 in c:\\users\\kathrin.spendier\\anaconda3\\envs\\tket\\lib\\site-packages (from pytket) (0.12.0)\n",
      "Requirement already satisfied: MarkupSafe>=2.0 in c:\\users\\kathrin.spendier\\anaconda3\\envs\\tket\\lib\\site-packages (from jinja2~=3.0->pytket) (2.1.1)\n",
      "Requirement already satisfied: mpmath>=0.19 in c:\\users\\kathrin.spendier\\anaconda3\\envs\\tket\\lib\\site-packages (from sympy~=1.6->pytket) (1.2.1)\n"
     ]
    }
   ],
   "source": [
    "pip install pytket"
   ]
  },
  {
   "cell_type": "markdown",
   "id": "dd15c3a9",
   "metadata": {},
   "source": [
    "I would recommend you install `pytket-qiskit` at the same time. `pytket-qiskit` integrates `qiskit` into `pytket`,\n",
    "an IBM tool that, among other things, provides access to their quantum computers and numerous simulators. Install `qiskit` through"
   ]
  },
  {
   "cell_type": "code",
   "execution_count": 3,
   "id": "bf504041",
   "metadata": {},
   "outputs": [
    {
     "name": "stdout",
     "output_type": "stream",
     "text": [
      "Requirement already satisfied: pytket-qiskit in c:\\users\\kathrin.spendier\\anaconda3\\envs\\tket\\lib\\site-packages (0.26.0)Note: you may need to restart the kernel to use updated packages.\n",
      "\n",
      "Requirement already satisfied: pytket~=1.3 in c:\\users\\kathrin.spendier\\anaconda3\\envs\\tket\\lib\\site-packages (from pytket-qiskit) (1.3.0)\n",
      "Requirement already satisfied: qiskit~=0.36.0 in c:\\users\\kathrin.spendier\\anaconda3\\envs\\tket\\lib\\site-packages (from pytket-qiskit) (0.36.2)\n",
      "Requirement already satisfied: types-pkg-resources in c:\\users\\kathrin.spendier\\anaconda3\\envs\\tket\\lib\\site-packages (from pytket~=1.3->pytket-qiskit) (0.1.3)\n",
      "Requirement already satisfied: networkx~=2.4 in c:\\users\\kathrin.spendier\\anaconda3\\envs\\tket\\lib\\site-packages (from pytket~=1.3->pytket-qiskit) (2.8.4)\n",
      "Requirement already satisfied: scipy<2.0,>=1.7.2 in c:\\users\\kathrin.spendier\\anaconda3\\envs\\tket\\lib\\site-packages (from pytket~=1.3->pytket-qiskit) (1.8.1)\n",
      "Requirement already satisfied: sympy~=1.6 in c:\\users\\kathrin.spendier\\anaconda3\\envs\\tket\\lib\\site-packages (from pytket~=1.3->pytket-qiskit) (1.10.1)\n",
      "Requirement already satisfied: lark-parser~=0.7 in c:\\users\\kathrin.spendier\\anaconda3\\envs\\tket\\lib\\site-packages (from pytket~=1.3->pytket-qiskit) (0.12.0)\n",
      "Requirement already satisfied: numpy<2.0,>=1.21.4 in c:\\users\\kathrin.spendier\\anaconda3\\envs\\tket\\lib\\site-packages (from pytket~=1.3->pytket-qiskit) (1.23.0)\n",
      "Requirement already satisfied: jinja2~=3.0 in c:\\users\\kathrin.spendier\\anaconda3\\envs\\tket\\lib\\site-packages (from pytket~=1.3->pytket-qiskit) (3.1.2)\n",
      "Requirement already satisfied: graphviz~=0.14 in c:\\users\\kathrin.spendier\\anaconda3\\envs\\tket\\lib\\site-packages (from pytket~=1.3->pytket-qiskit) (0.20)\n",
      "Requirement already satisfied: typing-extensions~=4.2 in c:\\users\\kathrin.spendier\\anaconda3\\envs\\tket\\lib\\site-packages (from pytket~=1.3->pytket-qiskit) (4.3.0)\n",
      "Requirement already satisfied: MarkupSafe>=2.0 in c:\\users\\kathrin.spendier\\anaconda3\\envs\\tket\\lib\\site-packages (from jinja2~=3.0->pytket~=1.3->pytket-qiskit) (2.1.1)\n",
      "Requirement already satisfied: qiskit-terra==0.20.2 in c:\\users\\kathrin.spendier\\anaconda3\\envs\\tket\\lib\\site-packages (from qiskit~=0.36.0->pytket-qiskit) (0.20.2)\n",
      "Requirement already satisfied: qiskit-ignis==0.7.1 in c:\\users\\kathrin.spendier\\anaconda3\\envs\\tket\\lib\\site-packages (from qiskit~=0.36.0->pytket-qiskit) (0.7.1)\n",
      "Requirement already satisfied: qiskit-aer==0.10.4 in c:\\users\\kathrin.spendier\\anaconda3\\envs\\tket\\lib\\site-packages (from qiskit~=0.36.0->pytket-qiskit) (0.10.4)\n",
      "Requirement already satisfied: qiskit-ibmq-provider==0.19.1 in c:\\users\\kathrin.spendier\\anaconda3\\envs\\tket\\lib\\site-packages (from qiskit~=0.36.0->pytket-qiskit) (0.19.1)\n",
      "Requirement already satisfied: requests-ntlm>=1.1.0 in c:\\users\\kathrin.spendier\\anaconda3\\envs\\tket\\lib\\site-packages (from qiskit-ibmq-provider==0.19.1->qiskit~=0.36.0->pytket-qiskit) (1.1.0)\n",
      "Requirement already satisfied: python-dateutil>=2.8.0 in c:\\users\\kathrin.spendier\\anaconda3\\envs\\tket\\lib\\site-packages (from qiskit-ibmq-provider==0.19.1->qiskit~=0.36.0->pytket-qiskit) (2.8.2)\n",
      "Requirement already satisfied: requests>=2.19 in c:\\users\\kathrin.spendier\\anaconda3\\envs\\tket\\lib\\site-packages (from qiskit-ibmq-provider==0.19.1->qiskit~=0.36.0->pytket-qiskit) (2.28.1)\n",
      "Requirement already satisfied: urllib3>=1.21.1 in c:\\users\\kathrin.spendier\\anaconda3\\envs\\tket\\lib\\site-packages (from qiskit-ibmq-provider==0.19.1->qiskit~=0.36.0->pytket-qiskit) (1.26.10)\n",
      "Requirement already satisfied: websockets>=10.0 in c:\\users\\kathrin.spendier\\anaconda3\\envs\\tket\\lib\\site-packages (from qiskit-ibmq-provider==0.19.1->qiskit~=0.36.0->pytket-qiskit) (10.3)\n",
      "Requirement already satisfied: websocket-client>=1.0.1 in c:\\users\\kathrin.spendier\\anaconda3\\envs\\tket\\lib\\site-packages (from qiskit-ibmq-provider==0.19.1->qiskit~=0.36.0->pytket-qiskit) (1.3.3)\n",
      "Requirement already satisfied: setuptools>=40.1.0 in c:\\users\\kathrin.spendier\\anaconda3\\envs\\tket\\lib\\site-packages (from qiskit-ignis==0.7.1->qiskit~=0.36.0->pytket-qiskit) (61.2.0)\n",
      "Requirement already satisfied: retworkx>=0.8.0 in c:\\users\\kathrin.spendier\\anaconda3\\envs\\tket\\lib\\site-packages (from qiskit-ignis==0.7.1->qiskit~=0.36.0->pytket-qiskit) (0.11.0)\n",
      "Requirement already satisfied: tweedledum<2.0,>=1.1 in c:\\users\\kathrin.spendier\\anaconda3\\envs\\tket\\lib\\site-packages (from qiskit-terra==0.20.2->qiskit~=0.36.0->pytket-qiskit) (1.1.1)\n",
      "Requirement already satisfied: dill>=0.3 in c:\\users\\kathrin.spendier\\anaconda3\\envs\\tket\\lib\\site-packages (from qiskit-terra==0.20.2->qiskit~=0.36.0->pytket-qiskit) (0.3.5.1)\n",
      "Requirement already satisfied: python-constraint>=1.4 in c:\\users\\kathrin.spendier\\anaconda3\\envs\\tket\\lib\\site-packages (from qiskit-terra==0.20.2->qiskit~=0.36.0->pytket-qiskit) (1.4.0)\n",
      "Requirement already satisfied: psutil>=5 in c:\\users\\kathrin.spendier\\anaconda3\\envs\\tket\\lib\\site-packages (from qiskit-terra==0.20.2->qiskit~=0.36.0->pytket-qiskit) (5.9.1)\n",
      "Requirement already satisfied: ply>=3.10 in c:\\users\\kathrin.spendier\\anaconda3\\envs\\tket\\lib\\site-packages (from qiskit-terra==0.20.2->qiskit~=0.36.0->pytket-qiskit) (3.11)\n",
      "Requirement already satisfied: stevedore>=3.0.0 in c:\\users\\kathrin.spendier\\anaconda3\\envs\\tket\\lib\\site-packages (from qiskit-terra==0.20.2->qiskit~=0.36.0->pytket-qiskit) (3.5.0)\n",
      "Requirement already satisfied: six>=1.5 in c:\\users\\kathrin.spendier\\anaconda3\\envs\\tket\\lib\\site-packages (from python-dateutil>=2.8.0->qiskit-ibmq-provider==0.19.1->qiskit~=0.36.0->pytket-qiskit) (1.16.0)\n",
      "Requirement already satisfied: certifi>=2017.4.17 in c:\\users\\kathrin.spendier\\anaconda3\\envs\\tket\\lib\\site-packages (from requests>=2.19->qiskit-ibmq-provider==0.19.1->qiskit~=0.36.0->pytket-qiskit) (2022.6.15)\n",
      "Requirement already satisfied: charset-normalizer<3,>=2 in c:\\users\\kathrin.spendier\\anaconda3\\envs\\tket\\lib\\site-packages (from requests>=2.19->qiskit-ibmq-provider==0.19.1->qiskit~=0.36.0->pytket-qiskit) (2.1.0)\n",
      "Requirement already satisfied: idna<4,>=2.5 in c:\\users\\kathrin.spendier\\anaconda3\\envs\\tket\\lib\\site-packages (from requests>=2.19->qiskit-ibmq-provider==0.19.1->qiskit~=0.36.0->pytket-qiskit) (3.3)\n",
      "Requirement already satisfied: ntlm-auth>=1.0.2 in c:\\users\\kathrin.spendier\\anaconda3\\envs\\tket\\lib\\site-packages (from requests-ntlm>=1.1.0->qiskit-ibmq-provider==0.19.1->qiskit~=0.36.0->pytket-qiskit) (1.5.0)\n",
      "Requirement already satisfied: cryptography>=1.3 in c:\\users\\kathrin.spendier\\anaconda3\\envs\\tket\\lib\\site-packages (from requests-ntlm>=1.1.0->qiskit-ibmq-provider==0.19.1->qiskit~=0.36.0->pytket-qiskit) (37.0.4)\n",
      "Requirement already satisfied: cffi>=1.12 in c:\\users\\kathrin.spendier\\anaconda3\\envs\\tket\\lib\\site-packages (from cryptography>=1.3->requests-ntlm>=1.1.0->qiskit-ibmq-provider==0.19.1->qiskit~=0.36.0->pytket-qiskit) (1.15.1)\n",
      "Requirement already satisfied: pycparser in c:\\users\\kathrin.spendier\\anaconda3\\envs\\tket\\lib\\site-packages (from cffi>=1.12->cryptography>=1.3->requests-ntlm>=1.1.0->qiskit-ibmq-provider==0.19.1->qiskit~=0.36.0->pytket-qiskit) (2.21)\n",
      "Requirement already satisfied: pbr!=2.1.0,>=2.0.0 in c:\\users\\kathrin.spendier\\anaconda3\\envs\\tket\\lib\\site-packages (from stevedore>=3.0.0->qiskit-terra==0.20.2->qiskit~=0.36.0->pytket-qiskit) (5.9.0)\n",
      "Requirement already satisfied: mpmath>=0.19 in c:\\users\\kathrin.spendier\\anaconda3\\envs\\tket\\lib\\site-packages (from sympy~=1.6->pytket~=1.3->pytket-qiskit) (1.2.1)\n"
     ]
    }
   ],
   "source": [
    "pip install pytket-qiskit"
   ]
  },
  {
   "cell_type": "markdown",
   "id": "5bf3a77e",
   "metadata": {},
   "source": [
    "Now that installation is done, we are ready to implement the first circuit using `pytket`."
   ]
  },
  {
   "cell_type": "code",
   "execution_count": null,
   "id": "76142678",
   "metadata": {},
   "outputs": [],
   "source": []
  }
 ],
 "metadata": {
  "kernelspec": {
   "display_name": "Python 3 (ipykernel)",
   "language": "python",
   "name": "python3"
  },
  "language_info": {
   "codemirror_mode": {
    "name": "ipython",
    "version": 3
   },
   "file_extension": ".py",
   "mimetype": "text/x-python",
   "name": "python",
   "nbconvert_exporter": "python",
   "pygments_lexer": "ipython3",
   "version": "3.10.4"
  }
 },
 "nbformat": 4,
 "nbformat_minor": 5
}
