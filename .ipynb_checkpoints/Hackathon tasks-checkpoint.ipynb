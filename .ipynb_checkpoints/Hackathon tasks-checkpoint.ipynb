{
 "cells": [
  {
   "cell_type": "markdown",
   "id": "08785950",
   "metadata": {},
   "source": [
    "# Your Tasks for this Hackathon\n",
    "\n",
    "This was a first glimpse of the workflow from the design of a quantum circuit to its execution. There is much more to discover.\n",
    "\n",
    "There is an entire series of example notebooks for `pytket`\n",
    "available on the [pytket github](https://github.com/CQCL/pytket/tree/master/examples).\n",
    "\n",
    "Recommended examples applicable to this Hackathon are you can go through as a continuation of this introduction include:\n",
    "- [Run a circuit on the backends](https://github.com/CQCL/pytket/blob/master/examples/backends_example.ipynb)\n",
    "- [Circuit Optimization](https://github.com/CQCL/pytket/blob/master/examples/compilation_example.ipynb)\n",
    "- [Advanced techniques for creating circuits](https://github.com/CQCL/pytket/blob/master/examples/circuit_generation_example.ipynb)"
   ]
  },
  {
   "cell_type": "markdown",
   "id": "809ad8dc",
   "metadata": {},
   "source": [
    "## Your task\n",
    "\n",
    "The costs for using quantum hardware platforms depend on different parameters such as runtime, the number of gates in a program, the complexity of the gates used, and the number of shots. Based on the known pricing of different gate-based quantum computing hardware providers, you are tasked to find the cheapest solution for your company to perform a selection of quantum computations. \n",
    "\n",
    "For this challenge, you will use the TKET compiler, which integrates with Qiskit. TKET is a platform agnostic quantum software toolkit that will help you compile and optimize your quantum programs to target a range of hardware and find the most valuable solution for your company. \n",
    "\n",
    "For IonQ and Quantinuum pricing, see here: \n",
    "[Azure Quantum providers pricing](https://docs.microsoft.com/en-us/azure/quantum/pricing?tabs=tabid-AQcredits%2Ctabid-AQcreditsQ%2Ctabid-payasgo%2Ctabid-learndevelop&pivots=ide-computing)\n",
    "\n",
    "For IBM pricing, see here: \n",
    "[Qiskit Runtime (Beta) - IBM Cloud](https://cloud.ibm.com/catalog/services/quantum-computing)\n",
    "\n",
    "For Amazon Bracket Pricing of many others, see here: \n",
    "[Amazon Bracket Pricing](https://aws.amazon.com/braket/pricing/)"
   ]
  },
  {
   "cell_type": "markdown",
   "id": "f62a66bc",
   "metadata": {},
   "source": [
    "## Previous tasks (ETH Zürich, 8th April - 10th April, 2022)\n",
    "You are now ready for the _real_ challenges!\n",
    "For this hackathon, we have prepared two different tasks that you can try to\n",
    "tackle with TKET:\n",
    " 1. \"[Estimating phases with Hadamard Test and Cat States](hadamard_test.md)\". This problem explores some of the more theoretical questions around building applications of quantum computing for quantum chemistry and Hamiltonian simulation. A bit more maths and physics heavy.\n",
    " 2. \"[World-class routing](routing.md)\". Dive into the state-of-the-art of quantum circuit compilation. This problem is more applied, open-ended and programming-heavy: you'll have to come up with your own implementations and benchmark your results.\n",
    "\n",
    "It is NOT expected that you solve both, so do pick your favourite!\n",
    "\n"
   ]
  },
  {
   "cell_type": "markdown",
   "id": "886c86e2",
   "metadata": {},
   "source": [
    "Good luck! Don't hesitate to reach out to us if you have any questions."
   ]
  },
  {
   "cell_type": "code",
   "execution_count": null,
   "id": "ffd8bdfa",
   "metadata": {},
   "outputs": [],
   "source": []
  }
 ],
 "metadata": {
  "kernelspec": {
   "display_name": "Python 3 (ipykernel)",
   "language": "python",
   "name": "python3"
  },
  "language_info": {
   "codemirror_mode": {
    "name": "ipython",
    "version": 3
   },
   "file_extension": ".py",
   "mimetype": "text/x-python",
   "name": "python",
   "nbconvert_exporter": "python",
   "pygments_lexer": "ipython3",
   "version": "3.9.12"
  }
 },
 "nbformat": 4,
 "nbformat_minor": 5
}
