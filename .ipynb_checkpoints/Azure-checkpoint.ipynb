{
 "cells": [
  {
   "cell_type": "markdown",
   "id": "02ae418e",
   "metadata": {},
   "source": [
    "# Access to Quantinuum and IonQ Backends\n",
    "\n",
    "You can get access to [Quantinuum](https://www.quantinuum.com/) and [IonQ](https://ionq.com/) simulators, emulators, and quantum machines through Microsoft Azure. When creating your workspace, first-time users automatically get free 500 (USD) Azure Quantum Credits for use with each participating quantum hardware provider. If you have consumed all the credits and need more, you can apply to the [Azure Quantum Credits program](https://microsoft.qualtrics.com/jfe/form/SV_3fl9dfFrkC3g0aG?aq_source=organic). For this Hackathon, we will use the simulators and emulators that do not use Azure Quantum Credits and hence are entirely free.\n",
    "\n",
    "## Apply for Azure Quantum Credit Free Trial\n",
    "\n",
    "If you don’t have an Azure subscription, you can [create a free Azure account](https://azure.microsoft.com/en-us/free/). If you are a student and have a university email, check out the free Azure accounts [for students](https://azure.microsoft.com/en-us/free/students/). With Azure, you can create, deploy, and manage applications across multiple clouds, on-premises, and at the edge. You will get 200 (USD) Azure credit to use in other Azure services. For information regarding the application process to the Azure Quantum Credits Program see [here](https://docs.microsoft.com/en-us/azure/quantum/azure-quantum-credits?tabs=tabid-portal). Read over the details carefully\n",
    "\n",
    "Notice that Azure credits are not the same as Azure Quantum Credits. When you create a new Azure account, you get 200 (USD) of free Azure Credits to use in your first 30 days on Microsoft services. You can only use general-purpose Azure Credits with the Microsoft providers. 3rd-party providers (providers that Microsoft doesn't own) aren't eligible. Azure Quantum Credits can be used to run programs on quantum hardware. First-time users automatically get free 500 (USD) Azure Quantum Credits on top of the 200 (USD) free Azure Credits for use with each participating quantum hardware provider. Once you have consumed all the credits, you will get error messages when submitting new jobs, and you can then upgrade to a new plan to keep using the selected quantum hardware providers.\n",
    "\n",
    "### Important\n",
    "You must provide a credit or debit card during the application process. Microsoft Azure will make a temporary authorization on this card, but you won’t be charged unless you move to pay-as-you-go pricing.\n",
    "\n",
    "Although, there are no costs or charges to using your free credits, there may be some small storage costs, as the input and output of your credits jobs are stored in a storage account that you pay for. Job data is typically <1MB per job. For more details, see [Azure Blob Storage pricing](https://azure.microsoft.com/en-us/pricing/details/storage/blobs/). "
   ]
  },
  {
   "cell_type": "markdown",
   "id": "627ef1c3",
   "metadata": {},
   "source": [
    "## Create an Azure Quantum workspace\n",
    "\n",
    "Follow the directions [here](https://docs.microsoft.com/en-us/azure/quantum/how-to-create-workspace?tabs=tabid-quick) to create an Azure Quantum workspace. Briefly:\n",
    "\n",
    "1) Sign in to the Azure portal, using the credentials for your Azure subscription.\n",
    "\n",
    "2) Select Create a resource and then search for Azure Quantum. You should see a tile for the Azure Quantum service on the results page.\n",
    "\n",
    "3) Select Azure Quantum and then select Create. This opens a form to create a workspace.\n",
    "\n",
    "4) Select a subscription to associate with the new workspace, i.e. Azure subscription 1\n",
    "\n",
    "5) Select \"Quick create\"\n",
    "\n",
    "6) Type in a Workspace name of your choice, i.e. \"TKET\"\n",
    "\n",
    "7) Region, slect your region, i.e. West US (You will see that you have access to IonQ and Quantinuum) and click create. (do read the providers' terms and conditions carefully)\n",
    "\n",
    "\n",
    "Deployment of your workspace usually takes about 5 minutes to complete. Once done, you should see a message \"Your deployment is complete\". The status and deployment details will be updated in the portal.\n",
    "\n",
    "The important information for connecting your account to your computer is the `Resource ID` and `Location`, which you can find in the \"Overview\" section of your Quantum workspace.\n"
   ]
  },
  {
   "cell_type": "markdown",
   "id": "9fed720a",
   "metadata": {},
   "source": [
    "# Submitting a job through Azure Quantum\n",
    "\n",
    "To submit a simple job, or quantum program, to Quantinuum or IonQ we will need to install `pytket-qsharp`. It is an extension to `pytket` that allows `pytket` circuits to be executed on remote devices and simulators via Azure Quantum. \n",
    "\n",
    "In order to use `pytket-qsharp` you will first need to install the `dotnet SDK (6.0)` and the `iqsharp` tool. (On some Linux systems it is also necessary to modify your PATH.)\n",
    "1) See [this page](https://dotnet.microsoft.com/en-us/download/dotnet/6.0) for instructions on installing the SDK on your operating system.\n",
    "2) On Linux, ensure that the dotnet tools directory is on your path. Typically this will be ~/.dotnet/tools.\n",
    "3) Open terminal and run `dotnet tool install -g Microsoft.Quantum.IQSharp`in `C:\\` directory. You should get a mesaage stating that 'microsoft.quantum.iqsharp' was successfully installed.\n",
    "4) Then run `dotnet iqsharp install --user` in the terminal/\n",
    "\n",
    "Alternatively, you can set up an environment with all the required packages using conda:\n",
    "\n",
    "`conda create -n qsharp-env -c quantum-engineering qsharp notebook`\n",
    "\n",
    "`conda activate qsharp-env`\n",
    "\n",
    "Now we are ready to install `pytket-qsharp` using:\n",
    "\n",
    "`pip install pytket-qsharp`"
   ]
  },
  {
   "cell_type": "markdown",
   "id": "b92b7e25",
   "metadata": {},
   "source": [
    "[see](https://github.com/CQCL/pytket-extensions)\n",
    "\n",
    "backend = IBMQEmulatorBackend('ibmq_guadalupe', hub='partner-cqc', group='internal', project='default')\n",
    "comp = sequence_pass.apply"
   ]
  },
  {
   "cell_type": "code",
   "execution_count": 1,
   "id": "65ea7a24",
   "metadata": {},
   "outputs": [
    {
     "name": "stdout",
     "output_type": "stream",
     "text": [
      "Requirement already satisfied: pytket-qsharp in c:\\users\\kathrin.spendier\\anaconda3\\lib\\site-packages (0.26.0)\n",
      "Requirement already satisfied: qsharp-core~=0.24.201332 in c:\\users\\kathrin.spendier\\anaconda3\\lib\\site-packages (from pytket-qsharp) (0.24.210930)\n",
      "Requirement already satisfied: qsharp~=0.24.201332 in c:\\users\\kathrin.spendier\\anaconda3\\lib\\site-packages (from pytket-qsharp) (0.24.210930)\n",
      "Requirement already satisfied: pytket~=1.3 in c:\\users\\kathrin.spendier\\anaconda3\\lib\\site-packages (from pytket-qsharp) (1.3.0)\n",
      "Requirement already satisfied: scipy<2.0,>=1.7.2 in c:\\users\\kathrin.spendier\\anaconda3\\lib\\site-packages (from pytket~=1.3->pytket-qsharp) (1.7.3)\n",
      "Requirement already satisfied: graphviz~=0.14 in c:\\users\\kathrin.spendier\\anaconda3\\lib\\site-packages (from pytket~=1.3->pytket-qsharp) (0.20)\n",
      "Requirement already satisfied: types-pkg-resources in c:\\users\\kathrin.spendier\\anaconda3\\lib\\site-packages (from pytket~=1.3->pytket-qsharp) (0.1.3)\n",
      "Requirement already satisfied: networkx~=2.4 in c:\\users\\kathrin.spendier\\anaconda3\\lib\\site-packages (from pytket~=1.3->pytket-qsharp) (2.7.1)\n",
      "Requirement already satisfied: sympy~=1.6 in c:\\users\\kathrin.spendier\\anaconda3\\lib\\site-packages (from pytket~=1.3->pytket-qsharp) (1.10.1)\n",
      "Requirement already satisfied: jinja2~=3.0 in c:\\users\\kathrin.spendier\\anaconda3\\lib\\site-packages (from pytket~=1.3->pytket-qsharp) (3.1.2)\n",
      "Requirement already satisfied: lark-parser~=0.7 in c:\\users\\kathrin.spendier\\anaconda3\\lib\\site-packages (from pytket~=1.3->pytket-qsharp) (0.12.0)\n",
      "Requirement already satisfied: typing-extensions~=4.2 in c:\\users\\kathrin.spendier\\anaconda3\\lib\\site-packages (from pytket~=1.3->pytket-qsharp) (4.3.0)\n",
      "Requirement already satisfied: numpy<2.0,>=1.21.4 in c:\\users\\kathrin.spendier\\anaconda3\\lib\\site-packages (from pytket~=1.3->pytket-qsharp) (1.21.5)\n",
      "Requirement already satisfied: MarkupSafe>=2.0 in c:\\users\\kathrin.spendier\\anaconda3\\lib\\site-packages (from jinja2~=3.0->pytket~=1.3->pytket-qsharp) (2.0.1)\n",
      "Requirement already satisfied: qsharp-chemistry==0.24.210930 in c:\\users\\kathrin.spendier\\anaconda3\\lib\\site-packages (from qsharp~=0.24.201332->pytket-qsharp) (0.24.210930)\n",
      "Requirement already satisfied: pyzmq<20.0.0 in c:\\users\\kathrin.spendier\\anaconda3\\lib\\site-packages (from qsharp-core~=0.24.201332->pytket-qsharp) (19.0.2)\n",
      "Requirement already satisfied: jupyter-client<7.0 in c:\\users\\kathrin.spendier\\anaconda3\\lib\\site-packages (from qsharp-core~=0.24.201332->pytket-qsharp) (6.1.12)\n",
      "Requirement already satisfied: python-dateutil>=2.1 in c:\\users\\kathrin.spendier\\anaconda3\\lib\\site-packages (from jupyter-client<7.0->qsharp-core~=0.24.201332->pytket-qsharp) (2.8.2)\n",
      "Requirement already satisfied: jupyter-core>=4.6.0 in c:\\users\\kathrin.spendier\\anaconda3\\lib\\site-packages (from jupyter-client<7.0->qsharp-core~=0.24.201332->pytket-qsharp) (4.9.2)\n",
      "Requirement already satisfied: traitlets in c:\\users\\kathrin.spendier\\anaconda3\\lib\\site-packages (from jupyter-client<7.0->qsharp-core~=0.24.201332->pytket-qsharp) (5.1.1)\n",
      "Requirement already satisfied: tornado>=4.1 in c:\\users\\kathrin.spendier\\anaconda3\\lib\\site-packages (from jupyter-client<7.0->qsharp-core~=0.24.201332->pytket-qsharp) (6.1)\n",
      "Requirement already satisfied: pywin32>=1.0 in c:\\users\\kathrin.spendier\\anaconda3\\lib\\site-packages (from jupyter-core>=4.6.0->jupyter-client<7.0->qsharp-core~=0.24.201332->pytket-qsharp) (302)\n",
      "Requirement already satisfied: six>=1.5 in c:\\users\\kathrin.spendier\\anaconda3\\lib\\site-packages (from python-dateutil>=2.1->jupyter-client<7.0->qsharp-core~=0.24.201332->pytket-qsharp) (1.16.0)\n",
      "Requirement already satisfied: mpmath>=0.19 in c:\\users\\kathrin.spendier\\anaconda3\\lib\\site-packages (from sympy~=1.6->pytket~=1.3->pytket-qsharp) (1.2.1)\n",
      "Note: you may need to restart the kernel to use updated packages.\n"
     ]
    },
    {
     "name": "stderr",
     "output_type": "stream",
     "text": [
      "WARNING: Ignoring invalid distribution -iskit-terra (c:\\users\\kathrin.spendier\\anaconda3\\lib\\site-packages)\n",
      "WARNING: Ignoring invalid distribution -iskit-terra (c:\\users\\kathrin.spendier\\anaconda3\\lib\\site-packages)\n",
      "WARNING: Ignoring invalid distribution -iskit-terra (c:\\users\\kathrin.spendier\\anaconda3\\lib\\site-packages)\n",
      "WARNING: Ignoring invalid distribution -iskit-terra (c:\\users\\kathrin.spendier\\anaconda3\\lib\\site-packages)\n",
      "WARNING: Ignoring invalid distribution -iskit-terra (c:\\users\\kathrin.spendier\\anaconda3\\lib\\site-packages)\n",
      "WARNING: Ignoring invalid distribution -iskit-terra (c:\\users\\kathrin.spendier\\anaconda3\\lib\\site-packages)\n"
     ]
    }
   ],
   "source": [
    "pip install pytket-qsharp;"
   ]
  },
  {
   "cell_type": "code",
   "execution_count": 2,
   "id": "af853c28",
   "metadata": {},
   "outputs": [],
   "source": [
    "from pytket.extensions.qsharp import AzureBackend"
   ]
  },
  {
   "cell_type": "markdown",
   "id": "da1faad6",
   "metadata": {},
   "source": [
    "### Submit a `pytket` job to IonQ\n",
    "\n",
    "Azure Quantum partners with third-party companies such as IonQ and QUantinuum to deliver solutions to quantum jobs. These company offerings are called providers. Each provider can offer multiple targets with different capabilities. See the table below for IonQ's targets.\n",
    "\n",
    "| Target name | Target ID | Number of qubits | Description | \n",
    "| --- | --- | --- | --- |\n",
    "| Quantum simulator | ionq.simulator | 29 qubits | IonQ's cloud-based idealized simulator. Free of cost. |\n",
    "| Quantum computer | ionq.qpu | 11 qubits | IonQ's trapped-ion quantum computer. This is real quantum hardware, not a simulation. Not for free |\n",
    "\n",
    "To learn more about IonQ's targets, check out [this documentation](https://docs.microsoft.com/en-us/azure/quantum/provider-ionq).\n",
    "\n",
    "To learn how to [estimate associated costs see](https://docs.microsoft.com/en-us/azure/quantum/quickstart-microsoft-qiskit-portal?pivots=platform-ionq)"
   ]
  },
  {
   "cell_type": "code",
   "execution_count": 8,
   "id": "9e6822fd",
   "metadata": {},
   "outputs": [
    {
     "data": {
      "application/x-qsharp-data": "\"Connecting to Azure Quantum...\"",
      "text/plain": [
       "Connecting to Azure Quantum..."
      ]
     },
     "metadata": {},
     "output_type": "display_data"
    },
    {
     "name": "stdout",
     "output_type": "stream",
     "text": [
      "Connected to Azure Quantum workspace TKET in location westus.\r\n",
      "Loading package Microsoft.Quantum.Providers.IonQ and dependencies...\r\n",
      "Active target is now ionq.simulator\r\n"
     ]
    }
   ],
   "source": [
    "backend_ionQ = AzureBackend(\"ionq.simulator\",resourceId=\"/subscriptions/a524e6e3-8d41-4f52-9b7a-0937373376d2/resourceGroups/AzureQuantum/providers/Microsoft.Quantum/Workspaces/TKET\",\n",
    "   location=\"westus\")"
   ]
  },
  {
   "cell_type": "code",
   "execution_count": 9,
   "id": "2226210a",
   "metadata": {},
   "outputs": [
    {
     "name": "stderr",
     "output_type": "stream",
     "text": [
      "Please specify a valid resourceId, or specify a valid combination of subscription, resourceGroup, and workspace.\r\n"
     ]
    },
    {
     "ename": "RuntimeError",
     "evalue": "No suitable Azure Quantum workspace found check the resourceId is correct: a524e6e3-8d41-4f52-9b7a-0937373376d2",
     "output_type": "error",
     "traceback": [
      "\u001b[1;31m---------------------------------------------------------------------------\u001b[0m",
      "\u001b[1;31mAzureError\u001b[0m                                Traceback (most recent call last)",
      "File \u001b[1;32m~\\Anaconda3\\lib\\site-packages\\pytket\\extensions\\qsharp\\backends\\azure_quantum.py:130\u001b[0m, in \u001b[0;36mAzureBackend.__init__\u001b[1;34m(self, target_name, resourceId, location, storage, machine_debug)\u001b[0m\n\u001b[0;32m    129\u001b[0m \u001b[38;5;28;01mtry\u001b[39;00m:\n\u001b[1;32m--> 130\u001b[0m     target_list \u001b[38;5;241m=\u001b[39m qsharp\u001b[38;5;241m.\u001b[39mazure\u001b[38;5;241m.\u001b[39mconnect(\u001b[38;5;241m*\u001b[39m\u001b[38;5;241m*\u001b[39mconfig\u001b[38;5;241m.\u001b[39m\u001b[38;5;18m__dict__\u001b[39m)\n\u001b[0;32m    131\u001b[0m \u001b[38;5;28;01mexcept\u001b[39;00m qsharp\u001b[38;5;241m.\u001b[39mazure\u001b[38;5;241m.\u001b[39mAzureError \u001b[38;5;28;01mas\u001b[39;00m e:\n",
      "File \u001b[1;32m~\\Anaconda3\\lib\\site-packages\\qsharp\\azure.py:110\u001b[0m, in \u001b[0;36mconnect\u001b[1;34m(**params)\u001b[0m\n\u001b[0;32m    109\u001b[0m result \u001b[38;5;241m=\u001b[39m qsharp\u001b[38;5;241m.\u001b[39mclient\u001b[38;5;241m.\u001b[39m_execute_magic(\u001b[38;5;124mf\u001b[39m\u001b[38;5;124m\"\u001b[39m\u001b[38;5;124mazure.connect\u001b[39m\u001b[38;5;124m\"\u001b[39m, raise_on_stderr\u001b[38;5;241m=\u001b[39m\u001b[38;5;28;01mFalse\u001b[39;00m, \u001b[38;5;241m*\u001b[39m\u001b[38;5;241m*\u001b[39mparams)\n\u001b[1;32m--> 110\u001b[0m \u001b[38;5;28;01mif\u001b[39;00m \u001b[38;5;124m\"\u001b[39m\u001b[38;5;124merror_code\u001b[39m\u001b[38;5;124m\"\u001b[39m \u001b[38;5;129;01min\u001b[39;00m result: \u001b[38;5;28;01mraise\u001b[39;00m AzureError(result)\n\u001b[0;32m    111\u001b[0m \u001b[38;5;28;01mreturn\u001b[39;00m [AzureTarget(target) \u001b[38;5;28;01mfor\u001b[39;00m target \u001b[38;5;129;01min\u001b[39;00m result]\n",
      "\u001b[1;31mAzureError\u001b[0m: {'error_code': 1012, 'error_name': 'WorkspaceNotFound', 'error_description': 'No Azure Quantum workspace was found that matches the specified criteria.'}",
      "\nDuring handling of the above exception, another exception occurred:\n",
      "\u001b[1;31mRuntimeError\u001b[0m                              Traceback (most recent call last)",
      "Input \u001b[1;32mIn [9]\u001b[0m, in \u001b[0;36m<cell line: 1>\u001b[1;34m()\u001b[0m\n\u001b[1;32m----> 1\u001b[0m backend_ionQ \u001b[38;5;241m=\u001b[39m \u001b[43mAzureBackend\u001b[49m\u001b[43m(\u001b[49m\u001b[38;5;124;43m\"\u001b[39;49m\u001b[38;5;124;43mionq.simulator\u001b[39;49m\u001b[38;5;124;43m\"\u001b[39;49m\u001b[43m,\u001b[49m\u001b[43mresourceId\u001b[49m\u001b[38;5;241;43m=\u001b[39;49m\u001b[38;5;124;43m\"\u001b[39;49m\u001b[38;5;124;43ma524e6e3-8d41-4f52-9b7a-0937373376d2\u001b[39;49m\u001b[38;5;124;43m\"\u001b[39;49m\u001b[43m,\u001b[49m\n\u001b[0;32m      2\u001b[0m \u001b[43m   \u001b[49m\u001b[43mlocation\u001b[49m\u001b[38;5;241;43m=\u001b[39;49m\u001b[38;5;124;43m\"\u001b[39;49m\u001b[38;5;124;43mwestus\u001b[39;49m\u001b[38;5;124;43m\"\u001b[39;49m\u001b[43m)\u001b[49m\n",
      "File \u001b[1;32m~\\Anaconda3\\lib\\site-packages\\pytket\\extensions\\qsharp\\backends\\azure_quantum.py:139\u001b[0m, in \u001b[0;36mAzureBackend.__init__\u001b[1;34m(self, target_name, resourceId, location, storage, machine_debug)\u001b[0m\n\u001b[0;32m    133\u001b[0m     \u001b[38;5;28;01mraise\u001b[39;00m \u001b[38;5;167;01mRuntimeError\u001b[39;00m(\n\u001b[0;32m    134\u001b[0m         \u001b[38;5;124m\"\u001b[39m\u001b[38;5;124mCould not authenticate with Azure Quantum. \u001b[39m\u001b[38;5;124m\"\u001b[39m\n\u001b[0;32m    135\u001b[0m         \u001b[38;5;124m\"\u001b[39m\u001b[38;5;124mEnsure you have logged in in your environment\u001b[39m\u001b[38;5;124m\"\u001b[39m\n\u001b[0;32m    136\u001b[0m         \u001b[38;5;124m\"\u001b[39m\u001b[38;5;124m and installed the required packages.\u001b[39m\u001b[38;5;124m\"\u001b[39m\n\u001b[0;32m    137\u001b[0m     )\n\u001b[0;32m    138\u001b[0m \u001b[38;5;28;01melif\u001b[39;00m e\u001b[38;5;241m.\u001b[39merror_name \u001b[38;5;241m==\u001b[39m \u001b[38;5;124m\"\u001b[39m\u001b[38;5;124mWorkspaceNotFound\u001b[39m\u001b[38;5;124m\"\u001b[39m:\n\u001b[1;32m--> 139\u001b[0m     \u001b[38;5;28;01mraise\u001b[39;00m \u001b[38;5;167;01mRuntimeError\u001b[39;00m(\n\u001b[0;32m    140\u001b[0m         \u001b[38;5;124m\"\u001b[39m\u001b[38;5;124mNo suitable Azure Quantum workspace found\u001b[39m\u001b[38;5;124m\"\u001b[39m\n\u001b[0;32m    141\u001b[0m         \u001b[38;5;124mf\u001b[39m\u001b[38;5;124m\"\u001b[39m\u001b[38;5;124m check the resourceId is correct: \u001b[39m\u001b[38;5;132;01m{\u001b[39;00mconfig\u001b[38;5;241m.\u001b[39mresourceId\u001b[38;5;132;01m}\u001b[39;00m\u001b[38;5;124m\"\u001b[39m\n\u001b[0;32m    142\u001b[0m     )\n\u001b[0;32m    143\u001b[0m \u001b[38;5;28;01melse\u001b[39;00m:\n\u001b[0;32m    144\u001b[0m     \u001b[38;5;28;01mraise\u001b[39;00m e\n",
      "\u001b[1;31mRuntimeError\u001b[0m: No suitable Azure Quantum workspace found check the resourceId is correct: a524e6e3-8d41-4f52-9b7a-0937373376d2"
     ]
    }
   ],
   "source": [
    "backend_ionQ = AzureBackend(\"ionq.simulator\",resourceId=\"a524e6e3-8d41-4f52-9b7a-0937373376d2\",\n",
    "   location=\"westus\")"
   ]
  },
  {
   "cell_type": "markdown",
   "id": "4953c63e",
   "metadata": {},
   "source": [
    "You will now be connected to Azure Quantum. This will take a while. A new browser will open asking you to sign into Microsoft. Sign in and then close browser"
   ]
  },
  {
   "cell_type": "markdown",
   "id": "f9997a7d",
   "metadata": {},
   "source": [
    "### Submit a `pytket` job to Quantinuum\n",
    "\n"
   ]
  },
  {
   "cell_type": "code",
   "execution_count": 10,
   "id": "c99f50e8",
   "metadata": {},
   "outputs": [
    {
     "data": {
      "application/x-qsharp-data": "\"Connecting to Azure Quantum...\"",
      "text/plain": [
       "Connecting to Azure Quantum..."
      ]
     },
     "metadata": {},
     "output_type": "display_data"
    },
    {
     "name": "stdout",
     "output_type": "stream",
     "text": [
      "To sign in, use a web browser to open the page https://microsoft.com/devicelogin and enter the code RR4HTQEV4 to authenticate.\r\n",
      "\r\n",
      "\r\n"
     ]
    },
    {
     "ename": "TimeoutError",
     "evalue": "Timeout waiting for output",
     "output_type": "error",
     "traceback": [
      "\u001b[1;31m---------------------------------------------------------------------------\u001b[0m",
      "\u001b[1;31mTimeoutError\u001b[0m                              Traceback (most recent call last)",
      "Input \u001b[1;32mIn [10]\u001b[0m, in \u001b[0;36m<cell line: 1>\u001b[1;34m()\u001b[0m\n\u001b[1;32m----> 1\u001b[0m backend_ionQ \u001b[38;5;241m=\u001b[39m \u001b[43mAzureBackend\u001b[49m\u001b[43m(\u001b[49m\u001b[38;5;124;43m\"\u001b[39;49m\u001b[38;5;124;43mquantinuum.hqs-lt-s1-apival\u001b[39;49m\u001b[38;5;124;43m\"\u001b[39;49m\u001b[43m,\u001b[49m\u001b[43mresourceId\u001b[49m\u001b[38;5;241;43m=\u001b[39;49m\u001b[38;5;124;43m\"\u001b[39;49m\u001b[38;5;124;43m/subscriptions/a524e6e3-8d41-4f52-9b7a-0937373376d2/resourceGroups/AzureQuantum/providers/Microsoft.Quantum/Workspaces/TKET\u001b[39;49m\u001b[38;5;124;43m\"\u001b[39;49m\u001b[43m,\u001b[49m\n\u001b[0;32m      2\u001b[0m \u001b[43m   \u001b[49m\u001b[43mlocation\u001b[49m\u001b[38;5;241;43m=\u001b[39;49m\u001b[38;5;124;43m\"\u001b[39;49m\u001b[38;5;124;43mwestus\u001b[39;49m\u001b[38;5;124;43m\"\u001b[39;49m\u001b[43m)\u001b[49m\n",
      "File \u001b[1;32m~\\Anaconda3\\lib\\site-packages\\pytket\\extensions\\qsharp\\backends\\azure_quantum.py:130\u001b[0m, in \u001b[0;36mAzureBackend.__init__\u001b[1;34m(self, target_name, resourceId, location, storage, machine_debug)\u001b[0m\n\u001b[0;32m    122\u001b[0m     \u001b[38;5;28;01mraise\u001b[39;00m \u001b[38;5;167;01mValueError\u001b[39;00m(\n\u001b[0;32m    123\u001b[0m         \u001b[38;5;124m\"\u001b[39m\u001b[38;5;124mAzure Quantum resourceId and location must be provided as\u001b[39m\u001b[38;5;124m\"\u001b[39m\n\u001b[0;32m    124\u001b[0m         \u001b[38;5;124mf\u001b[39m\u001b[38;5;124m\"\u001b[39m\u001b[38;5;124m parameter or stored in the config file \u001b[39m\u001b[38;5;132;01m{\u001b[39;00mget_config_file_path()\u001b[38;5;132;01m}\u001b[39;00m\u001b[38;5;124m\"\u001b[39m\n\u001b[0;32m    125\u001b[0m         \u001b[38;5;124mr\u001b[39m\u001b[38;5;124m\"\u001b[39m\u001b[38;5;124m as:\u001b[39m\u001b[38;5;124m{\u001b[39m\u001b[38;5;124m'\u001b[39m\u001b[38;5;124mextensions\u001b[39m\u001b[38;5;124m'\u001b[39m\u001b[38;5;124m:\u001b[39m\u001b[38;5;124m{\u001b[39m\u001b[38;5;124m'\u001b[39m\u001b[38;5;124mqsharp\u001b[39m\u001b[38;5;124m'\u001b[39m\u001b[38;5;124m:\u001b[39m\u001b[38;5;124m\"\u001b[39m\n\u001b[0;32m    126\u001b[0m         \u001b[38;5;124mr\u001b[39m\u001b[38;5;124m\"\u001b[39m\u001b[38;5;124m{\u001b[39m\u001b[38;5;124m'\u001b[39m\u001b[38;5;124mresourceId\u001b[39m\u001b[38;5;124m'\u001b[39m\u001b[38;5;124m:<val>,\u001b[39m\u001b[38;5;124m'\u001b[39m\u001b[38;5;124mlocation\u001b[39m\u001b[38;5;124m'\u001b[39m\u001b[38;5;124m:<val>}}}\u001b[39m\u001b[38;5;124m\"\u001b[39m\n\u001b[0;32m    127\u001b[0m     )\n\u001b[0;32m    129\u001b[0m \u001b[38;5;28;01mtry\u001b[39;00m:\n\u001b[1;32m--> 130\u001b[0m     target_list \u001b[38;5;241m=\u001b[39m qsharp\u001b[38;5;241m.\u001b[39mazure\u001b[38;5;241m.\u001b[39mconnect(\u001b[38;5;241m*\u001b[39m\u001b[38;5;241m*\u001b[39mconfig\u001b[38;5;241m.\u001b[39m\u001b[38;5;18m__dict__\u001b[39m)\n\u001b[0;32m    131\u001b[0m \u001b[38;5;28;01mexcept\u001b[39;00m qsharp\u001b[38;5;241m.\u001b[39mazure\u001b[38;5;241m.\u001b[39mAzureError \u001b[38;5;28;01mas\u001b[39;00m e:\n\u001b[0;32m    132\u001b[0m     \u001b[38;5;28;01mif\u001b[39;00m e\u001b[38;5;241m.\u001b[39merror_name \u001b[38;5;241m==\u001b[39m \u001b[38;5;124m\"\u001b[39m\u001b[38;5;124mAuthenticationFailed\u001b[39m\u001b[38;5;124m\"\u001b[39m:\n",
      "File \u001b[1;32m~\\Anaconda3\\lib\\site-packages\\qsharp\\azure.py:109\u001b[0m, in \u001b[0;36mconnect\u001b[1;34m(**params)\u001b[0m\n\u001b[0;32m    104\u001b[0m \u001b[38;5;28;01mdef\u001b[39;00m \u001b[38;5;21mconnect\u001b[39m(\u001b[38;5;241m*\u001b[39m\u001b[38;5;241m*\u001b[39mparams) \u001b[38;5;241m-\u001b[39m\u001b[38;5;241m>\u001b[39m List[AzureTarget]:\n\u001b[0;32m    105\u001b[0m     \u001b[38;5;124;03m\"\"\"\u001b[39;00m\n\u001b[0;32m    106\u001b[0m \u001b[38;5;124;03m    Connects to an Azure Quantum workspace or displays current connection status.\u001b[39;00m\n\u001b[0;32m    107\u001b[0m \u001b[38;5;124;03m    See https://docs.microsoft.com/qsharp/api/iqsharp-magic/azure.connect for more details.\u001b[39;00m\n\u001b[0;32m    108\u001b[0m \u001b[38;5;124;03m    \"\"\"\u001b[39;00m\n\u001b[1;32m--> 109\u001b[0m     result \u001b[38;5;241m=\u001b[39m qsharp\u001b[38;5;241m.\u001b[39mclient\u001b[38;5;241m.\u001b[39m_execute_magic(\u001b[38;5;124mf\u001b[39m\u001b[38;5;124m\"\u001b[39m\u001b[38;5;124mazure.connect\u001b[39m\u001b[38;5;124m\"\u001b[39m, raise_on_stderr\u001b[38;5;241m=\u001b[39m\u001b[38;5;28;01mFalse\u001b[39;00m, \u001b[38;5;241m*\u001b[39m\u001b[38;5;241m*\u001b[39mparams)\n\u001b[0;32m    110\u001b[0m     \u001b[38;5;28;01mif\u001b[39;00m \u001b[38;5;124m\"\u001b[39m\u001b[38;5;124merror_code\u001b[39m\u001b[38;5;124m\"\u001b[39m \u001b[38;5;129;01min\u001b[39;00m result: \u001b[38;5;28;01mraise\u001b[39;00m AzureError(result)\n\u001b[0;32m    111\u001b[0m     \u001b[38;5;28;01mreturn\u001b[39;00m [AzureTarget(target) \u001b[38;5;28;01mfor\u001b[39;00m target \u001b[38;5;129;01min\u001b[39;00m result]\n",
      "File \u001b[1;32m~\\Anaconda3\\lib\\site-packages\\qsharp\\clients\\iqsharp.py:286\u001b[0m, in \u001b[0;36mIQSharpClient._execute_magic\u001b[1;34m(self, magic, raise_on_stderr, _quiet_, **kwargs)\u001b[0m\n\u001b[0;32m    284\u001b[0m \u001b[38;5;28;01mdef\u001b[39;00m \u001b[38;5;21m_execute_magic\u001b[39m(\u001b[38;5;28mself\u001b[39m, magic : \u001b[38;5;28mstr\u001b[39m, raise_on_stderr : \u001b[38;5;28mbool\u001b[39m \u001b[38;5;241m=\u001b[39m \u001b[38;5;28;01mFalse\u001b[39;00m, _quiet_ : \u001b[38;5;28mbool\u001b[39m \u001b[38;5;241m=\u001b[39m \u001b[38;5;28;01mFalse\u001b[39;00m, \u001b[38;5;241m*\u001b[39m\u001b[38;5;241m*\u001b[39mkwargs) \u001b[38;5;241m-\u001b[39m\u001b[38;5;241m>\u001b[39m Any:\n\u001b[0;32m    285\u001b[0m     _timeout_ \u001b[38;5;241m=\u001b[39m kwargs\u001b[38;5;241m.\u001b[39mpop(\u001b[38;5;124m'\u001b[39m\u001b[38;5;124m_timeout_\u001b[39m\u001b[38;5;124m'\u001b[39m, DEFAULT_TIMEOUT)\n\u001b[1;32m--> 286\u001b[0m     \u001b[38;5;28;01mreturn\u001b[39;00m \u001b[38;5;28;43mself\u001b[39;49m\u001b[38;5;241;43m.\u001b[39;49m\u001b[43m_execute\u001b[49m\u001b[43m(\u001b[49m\n\u001b[0;32m    287\u001b[0m \u001b[43m        \u001b[49m\u001b[38;5;124;43mf\u001b[39;49m\u001b[38;5;124;43m'\u001b[39;49m\u001b[38;5;124;43m%\u001b[39;49m\u001b[38;5;132;43;01m{\u001b[39;49;00m\u001b[43mmagic\u001b[49m\u001b[38;5;132;43;01m}\u001b[39;49;00m\u001b[38;5;124;43m \u001b[39;49m\u001b[38;5;132;43;01m{\u001b[39;49;00m\u001b[43mjson\u001b[49m\u001b[38;5;241;43m.\u001b[39;49m\u001b[43mdumps\u001b[49m\u001b[43m(\u001b[49m\u001b[43mmap_tuples\u001b[49m\u001b[43m(\u001b[49m\u001b[43mkwargs\u001b[49m\u001b[43m)\u001b[49m\u001b[43m)\u001b[49m\u001b[38;5;132;43;01m}\u001b[39;49;00m\u001b[38;5;124;43m'\u001b[39;49m\u001b[43m,\u001b[49m\n\u001b[0;32m    288\u001b[0m \u001b[43m        \u001b[49m\u001b[43mraise_on_stderr\u001b[49m\u001b[38;5;241;43m=\u001b[39;49m\u001b[43mraise_on_stderr\u001b[49m\u001b[43m,\u001b[49m\u001b[43m \u001b[49m\u001b[43m_quiet_\u001b[49m\u001b[38;5;241;43m=\u001b[39;49m\u001b[43m_quiet_\u001b[49m\u001b[43m,\u001b[49m\u001b[43m \u001b[49m\u001b[43m_timeout_\u001b[49m\u001b[38;5;241;43m=\u001b[39;49m\u001b[43m_timeout_\u001b[49m\n\u001b[0;32m    289\u001b[0m \u001b[43m    \u001b[49m\u001b[43m)\u001b[49m\n",
      "File \u001b[1;32m~\\Anaconda3\\lib\\site-packages\\qsharp\\clients\\iqsharp.py:376\u001b[0m, in \u001b[0;36mIQSharpClient._execute\u001b[1;34m(self, input, return_full_result, raise_on_stderr, output_hook, display_data_handler, _timeout_, _quiet_, **kwargs)\u001b[0m\n\u001b[0;32m    374\u001b[0m         \u001b[38;5;28;01mraise\u001b[39;00m AlreadyExecutingError(\u001b[38;5;124m\"\u001b[39m\u001b[38;5;124mCannot execute through the IQ# client while another execution is completing.\u001b[39m\u001b[38;5;124m\"\u001b[39m)\n\u001b[0;32m    375\u001b[0m     \u001b[38;5;28mself\u001b[39m\u001b[38;5;241m.\u001b[39m_busy \u001b[38;5;241m=\u001b[39m \u001b[38;5;28;01mTrue\u001b[39;00m\n\u001b[1;32m--> 376\u001b[0m     reply \u001b[38;5;241m=\u001b[39m \u001b[38;5;28mself\u001b[39m\u001b[38;5;241m.\u001b[39mkernel_client\u001b[38;5;241m.\u001b[39mexecute_interactive(\u001b[38;5;28minput\u001b[39m, timeout\u001b[38;5;241m=\u001b[39m_timeout_, output_hook\u001b[38;5;241m=\u001b[39m_output_hook, \u001b[38;5;241m*\u001b[39m\u001b[38;5;241m*\u001b[39mkwargs)\n\u001b[0;32m    377\u001b[0m \u001b[38;5;28;01mfinally\u001b[39;00m:\n\u001b[0;32m    378\u001b[0m     \u001b[38;5;28mself\u001b[39m\u001b[38;5;241m.\u001b[39m_busy \u001b[38;5;241m=\u001b[39m \u001b[38;5;28;01mFalse\u001b[39;00m\n",
      "File \u001b[1;32m~\\Anaconda3\\lib\\site-packages\\jupyter_client\\blocking\\client.py:321\u001b[0m, in \u001b[0;36mBlockingKernelClient.execute_interactive\u001b[1;34m(self, code, silent, store_history, user_expressions, allow_stdin, stop_on_error, timeout, output_hook, stdin_hook)\u001b[0m\n\u001b[0;32m    319\u001b[0m events \u001b[38;5;241m=\u001b[39m \u001b[38;5;28mdict\u001b[39m(poller\u001b[38;5;241m.\u001b[39mpoll(timeout_ms))\n\u001b[0;32m    320\u001b[0m \u001b[38;5;28;01mif\u001b[39;00m \u001b[38;5;129;01mnot\u001b[39;00m events:\n\u001b[1;32m--> 321\u001b[0m     \u001b[38;5;28;01mraise\u001b[39;00m \u001b[38;5;167;01mTimeoutError\u001b[39;00m(\u001b[38;5;124m\"\u001b[39m\u001b[38;5;124mTimeout waiting for output\u001b[39m\u001b[38;5;124m\"\u001b[39m)\n\u001b[0;32m    322\u001b[0m \u001b[38;5;28;01mif\u001b[39;00m stdin_socket \u001b[38;5;129;01min\u001b[39;00m events:\n\u001b[0;32m    323\u001b[0m     req \u001b[38;5;241m=\u001b[39m \u001b[38;5;28mself\u001b[39m\u001b[38;5;241m.\u001b[39mstdin_channel\u001b[38;5;241m.\u001b[39mget_msg(timeout\u001b[38;5;241m=\u001b[39m\u001b[38;5;241m0\u001b[39m)\n",
      "\u001b[1;31mTimeoutError\u001b[0m: Timeout waiting for output"
     ]
    }
   ],
   "source": [
    "backend_ionQ = AzureBackend(\"quantinuum.hqs-lt-s1-apival\",resourceId=\"/subscriptions/a524e6e3-8d41-4f52-9b7a-0937373376d2/resourceGroups/AzureQuantum/providers/Microsoft.Quantum/Workspaces/TKET\",\n",
    "   location=\"westus\")"
   ]
  },
  {
   "cell_type": "code",
   "execution_count": null,
   "id": "f3fef5bf",
   "metadata": {},
   "outputs": [],
   "source": []
  }
 ],
 "metadata": {
  "kernelspec": {
   "display_name": "Python 3 (ipykernel)",
   "language": "python",
   "name": "python3"
  },
  "language_info": {
   "codemirror_mode": {
    "name": "ipython",
    "version": 3
   },
   "file_extension": ".py",
   "mimetype": "text/x-python",
   "name": "python",
   "nbconvert_exporter": "python",
   "pygments_lexer": "ipython3",
   "version": "3.9.12"
  }
 },
 "nbformat": 4,
 "nbformat_minor": 5
}
