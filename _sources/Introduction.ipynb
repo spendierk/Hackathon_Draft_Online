{
 "cells": [
  {
   "cell_type": "markdown",
   "id": "f22c08c1",
   "metadata": {},
   "source": [
    "# Getting ready with `pytket`\n"
   ]
  },
  {
   "cell_type": "markdown",
   "id": "a968098c",
   "metadata": {},
   "source": [
    "[Pytket](https://cqcl.github.io/tket/pytket/api/index.html) is a Python toolkit for quantum programming developed by Cambridge Quantum Computing, an extension of their larger TKET toolchain. TKET encompasses the entire toolset of high-performance tools for quantum programming, primarily written in C++. Hence, `pytket` is a Python interface to TKET, a platform-agnostic quantum software development kit (QSDK).\n",
    "\n",
    "## Installation\n",
    "\n",
    "First, make sure that a recent version of\n",
    "[Python](https://www.python.org/downloads/) is installed on your machine.\n",
    "You can check this in a terminal:"
   ]
  },
  {
   "cell_type": "markdown",
   "id": "ebb51888",
   "metadata": {},
   "source": [
    "```python --version```"
   ]
  },
  {
   "cell_type": "markdown",
   "id": "1725bb43",
   "metadata": {},
   "source": [
    "I would recommend using either `Python 3.9` or `Python 3.10`."
   ]
  },
  {
   "cell_type": "markdown",
   "id": "abd4aade",
   "metadata": {},
   "source": [
    "### Jupyter Notebook Installation\n",
    "\n",
    "In case you don't have access to Python or a Jupyter Notebook yet, I suggest you install Anaconda.\n",
    "\n",
    "#### Step 0: The browser\n",
    "Step “zero” consists in installing a modern standard-compliant browser. Either Mozilla Firefox or Google \n",
    "Chrome will work well. Try to avoid MS Explorer.\n",
    "\n",
    "#### Step 1: Installation\n",
    "The easiest way to install the Jupyter Notebook App is installing a scientific python distribution which \n",
    "also includes scientific python packages. The most common distribution is called Anaconda:<br>\n",
    "https://www.anaconda.com/products/distribution \n",
    "\n",
    "Download Anaconda Distribution (a few 100MB), Python 3, 64 bits.<br>\n",
    "Install it using the default settings for a single user.\n",
    "\n",
    "#### Step 2: open Jupyter Notebook\n",
    "Open the application Anaconda. You should see the Anaconda Navigator panel open. Most of this stuff we do \n",
    "not need.  Click on the Jupyter Notebook panel. What will open is a web browser, which is what Jupyter \n",
    "displays on. You should see a file directory displayed. \n",
    "\n",
    "To create a new notebook, click on “New” and select “Python 3”."
   ]
  },
  {
   "cell_type": "markdown",
   "id": "e304d747",
   "metadata": {},
   "source": [
    "## Create a virtual environment\n",
    "\n",
    "It is usually best to create Python projects in independent environments to avoid potentially conflicting dependencies between different packages. For this hackathon, choose the virtual environment manager you prefer.\n",
    "All Python code that follows will be the same in any virtual environment.\n",
    "\n",
    "\n",
    "#### When using Anaconda Navigator\n",
    "\n",
    "Open the “Anaconda Navigator” and go to “Environments”. Then click on the “create” button on the bottom to make a new TKET environment by typing, for example, the name “tket” . Select the python version 3.9 or 3.10, then click create. \n",
    "\n",
    "Then you can activate the “tket“ environment by selecting \"tket\" in the \"Environments\" tab and then clicking on \"Home\". Or select your environment using the dropdown menu called \"Applications on\" on the home screen. You should see a Jupyter Notebook pannel. Click on \"Install\". When the installation is completed, click the \"Launch\" button. You can select your working folder and click on \"NEW\" to open a new and select “Python 3” to open a working Jupyter notebook.\n"
   ]
  },
  {
   "cell_type": "markdown",
   "id": "52702817",
   "metadata": {},
   "source": [
    "## Install `pytket` and `qiskit`\n",
    "\n",
    "Once you opened a new Jupyter notebook, the TKET tool we will use in this hackathon is accessible through the Python package `pytket`. You will thus be able to access all TKET features directly from `pytket` by installing"
   ]
  },
  {
   "cell_type": "markdown",
   "id": "7b797e00",
   "metadata": {},
   "source": [
    "`pip install pytket`"
   ]
  },
  {
   "cell_type": "markdown",
   "id": "dd15c3a9",
   "metadata": {},
   "source": [
    "I would recommend you install `pytket-qiskit` at the same time. `pytket-qiskit` integrates `qiskit` into `pytket`,\n",
    "an IBM tool that, among other things, provides access to their quantum computers and numerous simulators. Install `qiskit` through"
   ]
  },
  {
   "cell_type": "markdown",
   "id": "5716efca",
   "metadata": {},
   "source": [
    "`pip install pytket-qiskit`"
   ]
  },
  {
   "cell_type": "markdown",
   "id": "5bf3a77e",
   "metadata": {},
   "source": [
    "Now that installation is done, we are ready to implement the first circuit using `pytket`."
   ]
  }
 ],
 "metadata": {
  "kernelspec": {
   "display_name": "Python 3 (ipykernel)",
   "language": "python",
   "name": "python3"
  },
  "language_info": {
   "codemirror_mode": {
    "name": "ipython",
    "version": 3
   },
   "file_extension": ".py",
   "mimetype": "text/x-python",
   "name": "python",
   "nbconvert_exporter": "python",
   "pygments_lexer": "ipython3",
   "version": "3.9.12"
  }
 },
 "nbformat": 4,
 "nbformat_minor": 5
}
